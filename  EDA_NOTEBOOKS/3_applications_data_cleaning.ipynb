{
 "cells": [
  {
   "attachments": {},
   "cell_type": "markdown",
   "metadata": {},
   "source": [
    "## This notebook aims to Analys,clean and transform applications_data."
   ]
  },
  {
   "cell_type": "code",
   "execution_count": 1,
   "metadata": {},
   "outputs": [],
   "source": [
    "#importing libraries \n",
    "import numpy as np   \n",
    "import pandas as pd\n",
    "import matplotlib.pyplot as plt\n",
    "%matplotlib inline\n",
    "import seaborn as sns"
   ]
  },
  {
   "attachments": {},
   "cell_type": "markdown",
   "metadata": {},
   "source": [
    "###  Importing the dataset"
   ]
  },
  {
   "cell_type": "code",
   "execution_count": 3,
   "metadata": {},
   "outputs": [],
   "source": [
    "# importing application_data.csv\n",
    "\n",
    "application_data = pd.read_csv(\"/Users/anurag/Desktop/Anurag_Koushal_Appinventiv_Submission/Assignment_2/Anurag_Koushal_Appinventiv/dataset/application_data.csv\")"
   ]
  },
  {
   "cell_type": "code",
   "execution_count": null,
   "metadata": {},
   "outputs": [
    {
     "data": {
      "text/plain": [
       "(307511, 122)"
      ]
     },
     "execution_count": 5,
     "metadata": {},
     "output_type": "execute_result"
    }
   ],
   "source": [
    "#checking shape of raw dataset\n",
    "\n",
    "application_data.shape"
   ]
  },
  {
   "cell_type": "code",
   "execution_count": null,
   "metadata": {},
   "outputs": [
    {
     "name": "stdout",
     "output_type": "stream",
     "text": [
      "<class 'pandas.core.frame.DataFrame'>\n",
      "RangeIndex: 307511 entries, 0 to 307510\n",
      "Data columns (total 122 columns):\n",
      " #   Column                        Dtype  \n",
      "---  ------                        -----  \n",
      " 0   SK_ID_CURR                    int64  \n",
      " 1   TARGET                        int64  \n",
      " 2   NAME_CONTRACT_TYPE            object \n",
      " 3   CODE_GENDER                   object \n",
      " 4   FLAG_OWN_CAR                  object \n",
      " 5   FLAG_OWN_REALTY               object \n",
      " 6   CNT_CHILDREN                  int64  \n",
      " 7   AMT_INCOME_TOTAL              float64\n",
      " 8   AMT_CREDIT                    float64\n",
      " 9   AMT_ANNUITY                   float64\n",
      " 10  AMT_GOODS_PRICE               float64\n",
      " 11  NAME_TYPE_SUITE               object \n",
      " 12  NAME_INCOME_TYPE              object \n",
      " 13  NAME_EDUCATION_TYPE           object \n",
      " 14  NAME_FAMILY_STATUS            object \n",
      " 15  NAME_HOUSING_TYPE             object \n",
      " 16  REGION_POPULATION_RELATIVE    float64\n",
      " 17  DAYS_BIRTH                    int64  \n",
      " 18  DAYS_EMPLOYED                 int64  \n",
      " 19  DAYS_REGISTRATION             float64\n",
      " 20  DAYS_ID_PUBLISH               int64  \n",
      " 21  OWN_CAR_AGE                   float64\n",
      " 22  FLAG_MOBIL                    int64  \n",
      " 23  FLAG_EMP_PHONE                int64  \n",
      " 24  FLAG_WORK_PHONE               int64  \n",
      " 25  FLAG_CONT_MOBILE              int64  \n",
      " 26  FLAG_PHONE                    int64  \n",
      " 27  FLAG_EMAIL                    int64  \n",
      " 28  OCCUPATION_TYPE               object \n",
      " 29  CNT_FAM_MEMBERS               float64\n",
      " 30  REGION_RATING_CLIENT          int64  \n",
      " 31  REGION_RATING_CLIENT_W_CITY   int64  \n",
      " 32  WEEKDAY_APPR_PROCESS_START    object \n",
      " 33  HOUR_APPR_PROCESS_START       int64  \n",
      " 34  REG_REGION_NOT_LIVE_REGION    int64  \n",
      " 35  REG_REGION_NOT_WORK_REGION    int64  \n",
      " 36  LIVE_REGION_NOT_WORK_REGION   int64  \n",
      " 37  REG_CITY_NOT_LIVE_CITY        int64  \n",
      " 38  REG_CITY_NOT_WORK_CITY        int64  \n",
      " 39  LIVE_CITY_NOT_WORK_CITY       int64  \n",
      " 40  ORGANIZATION_TYPE             object \n",
      " 41  EXT_SOURCE_1                  float64\n",
      " 42  EXT_SOURCE_2                  float64\n",
      " 43  EXT_SOURCE_3                  float64\n",
      " 44  APARTMENTS_AVG                float64\n",
      " 45  BASEMENTAREA_AVG              float64\n",
      " 46  YEARS_BEGINEXPLUATATION_AVG   float64\n",
      " 47  YEARS_BUILD_AVG               float64\n",
      " 48  COMMONAREA_AVG                float64\n",
      " 49  ELEVATORS_AVG                 float64\n",
      " 50  ENTRANCES_AVG                 float64\n",
      " 51  FLOORSMAX_AVG                 float64\n",
      " 52  FLOORSMIN_AVG                 float64\n",
      " 53  LANDAREA_AVG                  float64\n",
      " 54  LIVINGAPARTMENTS_AVG          float64\n",
      " 55  LIVINGAREA_AVG                float64\n",
      " 56  NONLIVINGAPARTMENTS_AVG       float64\n",
      " 57  NONLIVINGAREA_AVG             float64\n",
      " 58  APARTMENTS_MODE               float64\n",
      " 59  BASEMENTAREA_MODE             float64\n",
      " 60  YEARS_BEGINEXPLUATATION_MODE  float64\n",
      " 61  YEARS_BUILD_MODE              float64\n",
      " 62  COMMONAREA_MODE               float64\n",
      " 63  ELEVATORS_MODE                float64\n",
      " 64  ENTRANCES_MODE                float64\n",
      " 65  FLOORSMAX_MODE                float64\n",
      " 66  FLOORSMIN_MODE                float64\n",
      " 67  LANDAREA_MODE                 float64\n",
      " 68  LIVINGAPARTMENTS_MODE         float64\n",
      " 69  LIVINGAREA_MODE               float64\n",
      " 70  NONLIVINGAPARTMENTS_MODE      float64\n",
      " 71  NONLIVINGAREA_MODE            float64\n",
      " 72  APARTMENTS_MEDI               float64\n",
      " 73  BASEMENTAREA_MEDI             float64\n",
      " 74  YEARS_BEGINEXPLUATATION_MEDI  float64\n",
      " 75  YEARS_BUILD_MEDI              float64\n",
      " 76  COMMONAREA_MEDI               float64\n",
      " 77  ELEVATORS_MEDI                float64\n",
      " 78  ENTRANCES_MEDI                float64\n",
      " 79  FLOORSMAX_MEDI                float64\n",
      " 80  FLOORSMIN_MEDI                float64\n",
      " 81  LANDAREA_MEDI                 float64\n",
      " 82  LIVINGAPARTMENTS_MEDI         float64\n",
      " 83  LIVINGAREA_MEDI               float64\n",
      " 84  NONLIVINGAPARTMENTS_MEDI      float64\n",
      " 85  NONLIVINGAREA_MEDI            float64\n",
      " 86  FONDKAPREMONT_MODE            object \n",
      " 87  HOUSETYPE_MODE                object \n",
      " 88  TOTALAREA_MODE                float64\n",
      " 89  WALLSMATERIAL_MODE            object \n",
      " 90  EMERGENCYSTATE_MODE           object \n",
      " 91  OBS_30_CNT_SOCIAL_CIRCLE      float64\n",
      " 92  DEF_30_CNT_SOCIAL_CIRCLE      float64\n",
      " 93  OBS_60_CNT_SOCIAL_CIRCLE      float64\n",
      " 94  DEF_60_CNT_SOCIAL_CIRCLE      float64\n",
      " 95  DAYS_LAST_PHONE_CHANGE        float64\n",
      " 96  FLAG_DOCUMENT_2               int64  \n",
      " 97  FLAG_DOCUMENT_3               int64  \n",
      " 98  FLAG_DOCUMENT_4               int64  \n",
      " 99  FLAG_DOCUMENT_5               int64  \n",
      " 100 FLAG_DOCUMENT_6               int64  \n",
      " 101 FLAG_DOCUMENT_7               int64  \n",
      " 102 FLAG_DOCUMENT_8               int64  \n",
      " 103 FLAG_DOCUMENT_9               int64  \n",
      " 104 FLAG_DOCUMENT_10              int64  \n",
      " 105 FLAG_DOCUMENT_11              int64  \n",
      " 106 FLAG_DOCUMENT_12              int64  \n",
      " 107 FLAG_DOCUMENT_13              int64  \n",
      " 108 FLAG_DOCUMENT_14              int64  \n",
      " 109 FLAG_DOCUMENT_15              int64  \n",
      " 110 FLAG_DOCUMENT_16              int64  \n",
      " 111 FLAG_DOCUMENT_17              int64  \n",
      " 112 FLAG_DOCUMENT_18              int64  \n",
      " 113 FLAG_DOCUMENT_19              int64  \n",
      " 114 FLAG_DOCUMENT_20              int64  \n",
      " 115 FLAG_DOCUMENT_21              int64  \n",
      " 116 AMT_REQ_CREDIT_BUREAU_HOUR    float64\n",
      " 117 AMT_REQ_CREDIT_BUREAU_DAY     float64\n",
      " 118 AMT_REQ_CREDIT_BUREAU_WEEK    float64\n",
      " 119 AMT_REQ_CREDIT_BUREAU_MON     float64\n",
      " 120 AMT_REQ_CREDIT_BUREAU_QRT     float64\n",
      " 121 AMT_REQ_CREDIT_BUREAU_YEAR    float64\n",
      "dtypes: float64(65), int64(41), object(16)\n",
      "memory usage: 286.2+ MB\n"
     ]
    }
   ],
   "source": [
    "#Checking columns and their data types\n",
    "application_data.info(\"all\")"
   ]
  },
  {
   "cell_type": "markdown",
   "metadata": {},
   "source": [
    "**NOTE:**\n",
    "\n",
    "> **There are 122 columns having various data types like object, int, float and 305711 rows.**"
   ]
  },
  {
   "cell_type": "code",
   "execution_count": null,
   "metadata": {},
   "outputs": [
    {
     "data": {
      "text/html": [
       "<div>\n",
       "<style scoped>\n",
       "    .dataframe tbody tr th:only-of-type {\n",
       "        vertical-align: middle;\n",
       "    }\n",
       "\n",
       "    .dataframe tbody tr th {\n",
       "        vertical-align: top;\n",
       "    }\n",
       "\n",
       "    .dataframe thead th {\n",
       "        text-align: right;\n",
       "    }\n",
       "</style>\n",
       "<table border=\"1\" class=\"dataframe\">\n",
       "  <thead>\n",
       "    <tr style=\"text-align: right;\">\n",
       "      <th></th>\n",
       "      <th>SK_ID_CURR</th>\n",
       "      <th>TARGET</th>\n",
       "      <th>NAME_CONTRACT_TYPE</th>\n",
       "      <th>CODE_GENDER</th>\n",
       "      <th>FLAG_OWN_CAR</th>\n",
       "      <th>FLAG_OWN_REALTY</th>\n",
       "      <th>CNT_CHILDREN</th>\n",
       "      <th>AMT_INCOME_TOTAL</th>\n",
       "      <th>AMT_CREDIT</th>\n",
       "      <th>AMT_ANNUITY</th>\n",
       "      <th>...</th>\n",
       "      <th>FLAG_DOCUMENT_18</th>\n",
       "      <th>FLAG_DOCUMENT_19</th>\n",
       "      <th>FLAG_DOCUMENT_20</th>\n",
       "      <th>FLAG_DOCUMENT_21</th>\n",
       "      <th>AMT_REQ_CREDIT_BUREAU_HOUR</th>\n",
       "      <th>AMT_REQ_CREDIT_BUREAU_DAY</th>\n",
       "      <th>AMT_REQ_CREDIT_BUREAU_WEEK</th>\n",
       "      <th>AMT_REQ_CREDIT_BUREAU_MON</th>\n",
       "      <th>AMT_REQ_CREDIT_BUREAU_QRT</th>\n",
       "      <th>AMT_REQ_CREDIT_BUREAU_YEAR</th>\n",
       "    </tr>\n",
       "  </thead>\n",
       "  <tbody>\n",
       "    <tr>\n",
       "      <th>0</th>\n",
       "      <td>100002</td>\n",
       "      <td>1</td>\n",
       "      <td>Cash loans</td>\n",
       "      <td>M</td>\n",
       "      <td>N</td>\n",
       "      <td>Y</td>\n",
       "      <td>0</td>\n",
       "      <td>202500.0</td>\n",
       "      <td>406597.5</td>\n",
       "      <td>24700.5</td>\n",
       "      <td>...</td>\n",
       "      <td>0</td>\n",
       "      <td>0</td>\n",
       "      <td>0</td>\n",
       "      <td>0</td>\n",
       "      <td>0.0</td>\n",
       "      <td>0.0</td>\n",
       "      <td>0.0</td>\n",
       "      <td>0.0</td>\n",
       "      <td>0.0</td>\n",
       "      <td>1.0</td>\n",
       "    </tr>\n",
       "    <tr>\n",
       "      <th>1</th>\n",
       "      <td>100003</td>\n",
       "      <td>0</td>\n",
       "      <td>Cash loans</td>\n",
       "      <td>F</td>\n",
       "      <td>N</td>\n",
       "      <td>N</td>\n",
       "      <td>0</td>\n",
       "      <td>270000.0</td>\n",
       "      <td>1293502.5</td>\n",
       "      <td>35698.5</td>\n",
       "      <td>...</td>\n",
       "      <td>0</td>\n",
       "      <td>0</td>\n",
       "      <td>0</td>\n",
       "      <td>0</td>\n",
       "      <td>0.0</td>\n",
       "      <td>0.0</td>\n",
       "      <td>0.0</td>\n",
       "      <td>0.0</td>\n",
       "      <td>0.0</td>\n",
       "      <td>0.0</td>\n",
       "    </tr>\n",
       "    <tr>\n",
       "      <th>2</th>\n",
       "      <td>100004</td>\n",
       "      <td>0</td>\n",
       "      <td>Revolving loans</td>\n",
       "      <td>M</td>\n",
       "      <td>Y</td>\n",
       "      <td>Y</td>\n",
       "      <td>0</td>\n",
       "      <td>67500.0</td>\n",
       "      <td>135000.0</td>\n",
       "      <td>6750.0</td>\n",
       "      <td>...</td>\n",
       "      <td>0</td>\n",
       "      <td>0</td>\n",
       "      <td>0</td>\n",
       "      <td>0</td>\n",
       "      <td>0.0</td>\n",
       "      <td>0.0</td>\n",
       "      <td>0.0</td>\n",
       "      <td>0.0</td>\n",
       "      <td>0.0</td>\n",
       "      <td>0.0</td>\n",
       "    </tr>\n",
       "    <tr>\n",
       "      <th>3</th>\n",
       "      <td>100006</td>\n",
       "      <td>0</td>\n",
       "      <td>Cash loans</td>\n",
       "      <td>F</td>\n",
       "      <td>N</td>\n",
       "      <td>Y</td>\n",
       "      <td>0</td>\n",
       "      <td>135000.0</td>\n",
       "      <td>312682.5</td>\n",
       "      <td>29686.5</td>\n",
       "      <td>...</td>\n",
       "      <td>0</td>\n",
       "      <td>0</td>\n",
       "      <td>0</td>\n",
       "      <td>0</td>\n",
       "      <td>NaN</td>\n",
       "      <td>NaN</td>\n",
       "      <td>NaN</td>\n",
       "      <td>NaN</td>\n",
       "      <td>NaN</td>\n",
       "      <td>NaN</td>\n",
       "    </tr>\n",
       "    <tr>\n",
       "      <th>4</th>\n",
       "      <td>100007</td>\n",
       "      <td>0</td>\n",
       "      <td>Cash loans</td>\n",
       "      <td>M</td>\n",
       "      <td>N</td>\n",
       "      <td>Y</td>\n",
       "      <td>0</td>\n",
       "      <td>121500.0</td>\n",
       "      <td>513000.0</td>\n",
       "      <td>21865.5</td>\n",
       "      <td>...</td>\n",
       "      <td>0</td>\n",
       "      <td>0</td>\n",
       "      <td>0</td>\n",
       "      <td>0</td>\n",
       "      <td>0.0</td>\n",
       "      <td>0.0</td>\n",
       "      <td>0.0</td>\n",
       "      <td>0.0</td>\n",
       "      <td>0.0</td>\n",
       "      <td>0.0</td>\n",
       "    </tr>\n",
       "  </tbody>\n",
       "</table>\n",
       "<p>5 rows × 122 columns</p>\n",
       "</div>"
      ],
      "text/plain": [
       "   SK_ID_CURR  TARGET NAME_CONTRACT_TYPE CODE_GENDER FLAG_OWN_CAR  \\\n",
       "0      100002       1         Cash loans           M            N   \n",
       "1      100003       0         Cash loans           F            N   \n",
       "2      100004       0    Revolving loans           M            Y   \n",
       "3      100006       0         Cash loans           F            N   \n",
       "4      100007       0         Cash loans           M            N   \n",
       "\n",
       "  FLAG_OWN_REALTY  CNT_CHILDREN  AMT_INCOME_TOTAL  AMT_CREDIT  AMT_ANNUITY  \\\n",
       "0               Y             0          202500.0    406597.5      24700.5   \n",
       "1               N             0          270000.0   1293502.5      35698.5   \n",
       "2               Y             0           67500.0    135000.0       6750.0   \n",
       "3               Y             0          135000.0    312682.5      29686.5   \n",
       "4               Y             0          121500.0    513000.0      21865.5   \n",
       "\n",
       "   ...  FLAG_DOCUMENT_18 FLAG_DOCUMENT_19 FLAG_DOCUMENT_20 FLAG_DOCUMENT_21  \\\n",
       "0  ...                 0                0                0                0   \n",
       "1  ...                 0                0                0                0   \n",
       "2  ...                 0                0                0                0   \n",
       "3  ...                 0                0                0                0   \n",
       "4  ...                 0                0                0                0   \n",
       "\n",
       "  AMT_REQ_CREDIT_BUREAU_HOUR AMT_REQ_CREDIT_BUREAU_DAY  \\\n",
       "0                        0.0                       0.0   \n",
       "1                        0.0                       0.0   \n",
       "2                        0.0                       0.0   \n",
       "3                        NaN                       NaN   \n",
       "4                        0.0                       0.0   \n",
       "\n",
       "   AMT_REQ_CREDIT_BUREAU_WEEK  AMT_REQ_CREDIT_BUREAU_MON  \\\n",
       "0                         0.0                        0.0   \n",
       "1                         0.0                        0.0   \n",
       "2                         0.0                        0.0   \n",
       "3                         NaN                        NaN   \n",
       "4                         0.0                        0.0   \n",
       "\n",
       "   AMT_REQ_CREDIT_BUREAU_QRT  AMT_REQ_CREDIT_BUREAU_YEAR  \n",
       "0                        0.0                         1.0  \n",
       "1                        0.0                         0.0  \n",
       "2                        0.0                         0.0  \n",
       "3                        NaN                         NaN  \n",
       "4                        0.0                         0.0  \n",
       "\n",
       "[5 rows x 122 columns]"
      ]
     },
     "execution_count": 7,
     "metadata": {},
     "output_type": "execute_result"
    }
   ],
   "source": [
    "application_data.head()"
   ]
  },
  {
   "cell_type": "code",
   "execution_count": null,
   "metadata": {},
   "outputs": [
    {
     "data": {
      "text/html": [
       "<div>\n",
       "<style scoped>\n",
       "    .dataframe tbody tr th:only-of-type {\n",
       "        vertical-align: middle;\n",
       "    }\n",
       "\n",
       "    .dataframe tbody tr th {\n",
       "        vertical-align: top;\n",
       "    }\n",
       "\n",
       "    .dataframe thead th {\n",
       "        text-align: right;\n",
       "    }\n",
       "</style>\n",
       "<table border=\"1\" class=\"dataframe\">\n",
       "  <thead>\n",
       "    <tr style=\"text-align: right;\">\n",
       "      <th></th>\n",
       "      <th>SK_ID_CURR</th>\n",
       "      <th>TARGET</th>\n",
       "      <th>CNT_CHILDREN</th>\n",
       "      <th>AMT_INCOME_TOTAL</th>\n",
       "      <th>AMT_CREDIT</th>\n",
       "      <th>AMT_ANNUITY</th>\n",
       "      <th>AMT_GOODS_PRICE</th>\n",
       "      <th>REGION_POPULATION_RELATIVE</th>\n",
       "      <th>DAYS_BIRTH</th>\n",
       "      <th>DAYS_EMPLOYED</th>\n",
       "      <th>...</th>\n",
       "      <th>FLAG_DOCUMENT_18</th>\n",
       "      <th>FLAG_DOCUMENT_19</th>\n",
       "      <th>FLAG_DOCUMENT_20</th>\n",
       "      <th>FLAG_DOCUMENT_21</th>\n",
       "      <th>AMT_REQ_CREDIT_BUREAU_HOUR</th>\n",
       "      <th>AMT_REQ_CREDIT_BUREAU_DAY</th>\n",
       "      <th>AMT_REQ_CREDIT_BUREAU_WEEK</th>\n",
       "      <th>AMT_REQ_CREDIT_BUREAU_MON</th>\n",
       "      <th>AMT_REQ_CREDIT_BUREAU_QRT</th>\n",
       "      <th>AMT_REQ_CREDIT_BUREAU_YEAR</th>\n",
       "    </tr>\n",
       "  </thead>\n",
       "  <tbody>\n",
       "    <tr>\n",
       "      <th>count</th>\n",
       "      <td>307511.000000</td>\n",
       "      <td>307511.000000</td>\n",
       "      <td>307511.000000</td>\n",
       "      <td>3.075110e+05</td>\n",
       "      <td>3.075110e+05</td>\n",
       "      <td>307499.000000</td>\n",
       "      <td>3.072330e+05</td>\n",
       "      <td>307511.000000</td>\n",
       "      <td>307511.000000</td>\n",
       "      <td>307511.000000</td>\n",
       "      <td>...</td>\n",
       "      <td>307511.000000</td>\n",
       "      <td>307511.000000</td>\n",
       "      <td>307511.000000</td>\n",
       "      <td>307511.000000</td>\n",
       "      <td>265992.000000</td>\n",
       "      <td>265992.000000</td>\n",
       "      <td>265992.000000</td>\n",
       "      <td>265992.000000</td>\n",
       "      <td>265992.000000</td>\n",
       "      <td>265992.000000</td>\n",
       "    </tr>\n",
       "    <tr>\n",
       "      <th>mean</th>\n",
       "      <td>278180.518577</td>\n",
       "      <td>0.080729</td>\n",
       "      <td>0.417052</td>\n",
       "      <td>1.687979e+05</td>\n",
       "      <td>5.990260e+05</td>\n",
       "      <td>27108.573909</td>\n",
       "      <td>5.383962e+05</td>\n",
       "      <td>0.020868</td>\n",
       "      <td>-16036.995067</td>\n",
       "      <td>63815.045904</td>\n",
       "      <td>...</td>\n",
       "      <td>0.008130</td>\n",
       "      <td>0.000595</td>\n",
       "      <td>0.000507</td>\n",
       "      <td>0.000335</td>\n",
       "      <td>0.006402</td>\n",
       "      <td>0.007000</td>\n",
       "      <td>0.034362</td>\n",
       "      <td>0.267395</td>\n",
       "      <td>0.265474</td>\n",
       "      <td>1.899974</td>\n",
       "    </tr>\n",
       "    <tr>\n",
       "      <th>std</th>\n",
       "      <td>102790.175348</td>\n",
       "      <td>0.272419</td>\n",
       "      <td>0.722121</td>\n",
       "      <td>2.371231e+05</td>\n",
       "      <td>4.024908e+05</td>\n",
       "      <td>14493.737315</td>\n",
       "      <td>3.694465e+05</td>\n",
       "      <td>0.013831</td>\n",
       "      <td>4363.988632</td>\n",
       "      <td>141275.766519</td>\n",
       "      <td>...</td>\n",
       "      <td>0.089798</td>\n",
       "      <td>0.024387</td>\n",
       "      <td>0.022518</td>\n",
       "      <td>0.018299</td>\n",
       "      <td>0.083849</td>\n",
       "      <td>0.110757</td>\n",
       "      <td>0.204685</td>\n",
       "      <td>0.916002</td>\n",
       "      <td>0.794056</td>\n",
       "      <td>1.869295</td>\n",
       "    </tr>\n",
       "    <tr>\n",
       "      <th>min</th>\n",
       "      <td>100002.000000</td>\n",
       "      <td>0.000000</td>\n",
       "      <td>0.000000</td>\n",
       "      <td>2.565000e+04</td>\n",
       "      <td>4.500000e+04</td>\n",
       "      <td>1615.500000</td>\n",
       "      <td>4.050000e+04</td>\n",
       "      <td>0.000290</td>\n",
       "      <td>-25229.000000</td>\n",
       "      <td>-17912.000000</td>\n",
       "      <td>...</td>\n",
       "      <td>0.000000</td>\n",
       "      <td>0.000000</td>\n",
       "      <td>0.000000</td>\n",
       "      <td>0.000000</td>\n",
       "      <td>0.000000</td>\n",
       "      <td>0.000000</td>\n",
       "      <td>0.000000</td>\n",
       "      <td>0.000000</td>\n",
       "      <td>0.000000</td>\n",
       "      <td>0.000000</td>\n",
       "    </tr>\n",
       "    <tr>\n",
       "      <th>25%</th>\n",
       "      <td>189145.500000</td>\n",
       "      <td>0.000000</td>\n",
       "      <td>0.000000</td>\n",
       "      <td>1.125000e+05</td>\n",
       "      <td>2.700000e+05</td>\n",
       "      <td>16524.000000</td>\n",
       "      <td>2.385000e+05</td>\n",
       "      <td>0.010006</td>\n",
       "      <td>-19682.000000</td>\n",
       "      <td>-2760.000000</td>\n",
       "      <td>...</td>\n",
       "      <td>0.000000</td>\n",
       "      <td>0.000000</td>\n",
       "      <td>0.000000</td>\n",
       "      <td>0.000000</td>\n",
       "      <td>0.000000</td>\n",
       "      <td>0.000000</td>\n",
       "      <td>0.000000</td>\n",
       "      <td>0.000000</td>\n",
       "      <td>0.000000</td>\n",
       "      <td>0.000000</td>\n",
       "    </tr>\n",
       "    <tr>\n",
       "      <th>50%</th>\n",
       "      <td>278202.000000</td>\n",
       "      <td>0.000000</td>\n",
       "      <td>0.000000</td>\n",
       "      <td>1.471500e+05</td>\n",
       "      <td>5.135310e+05</td>\n",
       "      <td>24903.000000</td>\n",
       "      <td>4.500000e+05</td>\n",
       "      <td>0.018850</td>\n",
       "      <td>-15750.000000</td>\n",
       "      <td>-1213.000000</td>\n",
       "      <td>...</td>\n",
       "      <td>0.000000</td>\n",
       "      <td>0.000000</td>\n",
       "      <td>0.000000</td>\n",
       "      <td>0.000000</td>\n",
       "      <td>0.000000</td>\n",
       "      <td>0.000000</td>\n",
       "      <td>0.000000</td>\n",
       "      <td>0.000000</td>\n",
       "      <td>0.000000</td>\n",
       "      <td>1.000000</td>\n",
       "    </tr>\n",
       "    <tr>\n",
       "      <th>75%</th>\n",
       "      <td>367142.500000</td>\n",
       "      <td>0.000000</td>\n",
       "      <td>1.000000</td>\n",
       "      <td>2.025000e+05</td>\n",
       "      <td>8.086500e+05</td>\n",
       "      <td>34596.000000</td>\n",
       "      <td>6.795000e+05</td>\n",
       "      <td>0.028663</td>\n",
       "      <td>-12413.000000</td>\n",
       "      <td>-289.000000</td>\n",
       "      <td>...</td>\n",
       "      <td>0.000000</td>\n",
       "      <td>0.000000</td>\n",
       "      <td>0.000000</td>\n",
       "      <td>0.000000</td>\n",
       "      <td>0.000000</td>\n",
       "      <td>0.000000</td>\n",
       "      <td>0.000000</td>\n",
       "      <td>0.000000</td>\n",
       "      <td>0.000000</td>\n",
       "      <td>3.000000</td>\n",
       "    </tr>\n",
       "    <tr>\n",
       "      <th>max</th>\n",
       "      <td>456255.000000</td>\n",
       "      <td>1.000000</td>\n",
       "      <td>19.000000</td>\n",
       "      <td>1.170000e+08</td>\n",
       "      <td>4.050000e+06</td>\n",
       "      <td>258025.500000</td>\n",
       "      <td>4.050000e+06</td>\n",
       "      <td>0.072508</td>\n",
       "      <td>-7489.000000</td>\n",
       "      <td>365243.000000</td>\n",
       "      <td>...</td>\n",
       "      <td>1.000000</td>\n",
       "      <td>1.000000</td>\n",
       "      <td>1.000000</td>\n",
       "      <td>1.000000</td>\n",
       "      <td>4.000000</td>\n",
       "      <td>9.000000</td>\n",
       "      <td>8.000000</td>\n",
       "      <td>27.000000</td>\n",
       "      <td>261.000000</td>\n",
       "      <td>25.000000</td>\n",
       "    </tr>\n",
       "  </tbody>\n",
       "</table>\n",
       "<p>8 rows × 106 columns</p>\n",
       "</div>"
      ],
      "text/plain": [
       "          SK_ID_CURR         TARGET   CNT_CHILDREN  AMT_INCOME_TOTAL  \\\n",
       "count  307511.000000  307511.000000  307511.000000      3.075110e+05   \n",
       "mean   278180.518577       0.080729       0.417052      1.687979e+05   \n",
       "std    102790.175348       0.272419       0.722121      2.371231e+05   \n",
       "min    100002.000000       0.000000       0.000000      2.565000e+04   \n",
       "25%    189145.500000       0.000000       0.000000      1.125000e+05   \n",
       "50%    278202.000000       0.000000       0.000000      1.471500e+05   \n",
       "75%    367142.500000       0.000000       1.000000      2.025000e+05   \n",
       "max    456255.000000       1.000000      19.000000      1.170000e+08   \n",
       "\n",
       "         AMT_CREDIT    AMT_ANNUITY  AMT_GOODS_PRICE  \\\n",
       "count  3.075110e+05  307499.000000     3.072330e+05   \n",
       "mean   5.990260e+05   27108.573909     5.383962e+05   \n",
       "std    4.024908e+05   14493.737315     3.694465e+05   \n",
       "min    4.500000e+04    1615.500000     4.050000e+04   \n",
       "25%    2.700000e+05   16524.000000     2.385000e+05   \n",
       "50%    5.135310e+05   24903.000000     4.500000e+05   \n",
       "75%    8.086500e+05   34596.000000     6.795000e+05   \n",
       "max    4.050000e+06  258025.500000     4.050000e+06   \n",
       "\n",
       "       REGION_POPULATION_RELATIVE     DAYS_BIRTH  DAYS_EMPLOYED  ...  \\\n",
       "count               307511.000000  307511.000000  307511.000000  ...   \n",
       "mean                     0.020868  -16036.995067   63815.045904  ...   \n",
       "std                      0.013831    4363.988632  141275.766519  ...   \n",
       "min                      0.000290  -25229.000000  -17912.000000  ...   \n",
       "25%                      0.010006  -19682.000000   -2760.000000  ...   \n",
       "50%                      0.018850  -15750.000000   -1213.000000  ...   \n",
       "75%                      0.028663  -12413.000000    -289.000000  ...   \n",
       "max                      0.072508   -7489.000000  365243.000000  ...   \n",
       "\n",
       "       FLAG_DOCUMENT_18  FLAG_DOCUMENT_19  FLAG_DOCUMENT_20  FLAG_DOCUMENT_21  \\\n",
       "count     307511.000000     307511.000000     307511.000000     307511.000000   \n",
       "mean           0.008130          0.000595          0.000507          0.000335   \n",
       "std            0.089798          0.024387          0.022518          0.018299   \n",
       "min            0.000000          0.000000          0.000000          0.000000   \n",
       "25%            0.000000          0.000000          0.000000          0.000000   \n",
       "50%            0.000000          0.000000          0.000000          0.000000   \n",
       "75%            0.000000          0.000000          0.000000          0.000000   \n",
       "max            1.000000          1.000000          1.000000          1.000000   \n",
       "\n",
       "       AMT_REQ_CREDIT_BUREAU_HOUR  AMT_REQ_CREDIT_BUREAU_DAY  \\\n",
       "count               265992.000000              265992.000000   \n",
       "mean                     0.006402                   0.007000   \n",
       "std                      0.083849                   0.110757   \n",
       "min                      0.000000                   0.000000   \n",
       "25%                      0.000000                   0.000000   \n",
       "50%                      0.000000                   0.000000   \n",
       "75%                      0.000000                   0.000000   \n",
       "max                      4.000000                   9.000000   \n",
       "\n",
       "       AMT_REQ_CREDIT_BUREAU_WEEK  AMT_REQ_CREDIT_BUREAU_MON  \\\n",
       "count               265992.000000              265992.000000   \n",
       "mean                     0.034362                   0.267395   \n",
       "std                      0.204685                   0.916002   \n",
       "min                      0.000000                   0.000000   \n",
       "25%                      0.000000                   0.000000   \n",
       "50%                      0.000000                   0.000000   \n",
       "75%                      0.000000                   0.000000   \n",
       "max                      8.000000                  27.000000   \n",
       "\n",
       "       AMT_REQ_CREDIT_BUREAU_QRT  AMT_REQ_CREDIT_BUREAU_YEAR  \n",
       "count              265992.000000               265992.000000  \n",
       "mean                    0.265474                    1.899974  \n",
       "std                     0.794056                    1.869295  \n",
       "min                     0.000000                    0.000000  \n",
       "25%                     0.000000                    0.000000  \n",
       "50%                     0.000000                    1.000000  \n",
       "75%                     0.000000                    3.000000  \n",
       "max                   261.000000                   25.000000  \n",
       "\n",
       "[8 rows x 106 columns]"
      ]
     },
     "execution_count": 8,
     "metadata": {},
     "output_type": "execute_result"
    }
   ],
   "source": [
    "# Checking the numeric variables of the dataframes\n",
    "application_data.describe()"
   ]
  },
  {
   "attachments": {},
   "cell_type": "markdown",
   "metadata": {},
   "source": [
    "**INSIGHT**\n",
    "\n",
    "* **columns having negative, postive values for days are present. fixing is required**\n",
    "* **columns with very hight values(Amount(Price). standardising them is suggested**"
   ]
  },
  {
   "cell_type": "markdown",
   "metadata": {},
   "source": [
    "## 2. Data Cleaning & Tansformations"
   ]
  },
  {
   "cell_type": "markdown",
   "metadata": {},
   "source": [
    "### Handling Null Values"
   ]
  },
  {
   "cell_type": "code",
   "execution_count": null,
   "metadata": {},
   "outputs": [
    {
     "data": {
      "text/plain": [
       "COMMONAREA_MEDI                69.87\n",
       "COMMONAREA_AVG                 69.87\n",
       "COMMONAREA_MODE                69.87\n",
       "NONLIVINGAPARTMENTS_MODE       69.43\n",
       "NONLIVINGAPARTMENTS_MEDI       69.43\n",
       "                               ...  \n",
       "REG_CITY_NOT_LIVE_CITY          0.00\n",
       "LIVE_REGION_NOT_WORK_REGION     0.00\n",
       "REG_REGION_NOT_WORK_REGION      0.00\n",
       "HOUR_APPR_PROCESS_START         0.00\n",
       "SK_ID_CURR                      0.00\n",
       "Length: 122, dtype: float64"
      ]
     },
     "execution_count": 9,
     "metadata": {},
     "output_type": "execute_result"
    }
   ],
   "source": [
    "def null_values(df):\n",
    "    return round((df.isnull().sum()*100/len(df)).sort_values(ascending = False),2)\n",
    "\n",
    "null_values(application_data)"
   ]
  },
  {
   "attachments": {},
   "cell_type": "markdown",
   "metadata": {},
   "source": [
    "### Null values more than 50 %"
   ]
  },
  {
   "cell_type": "code",
   "execution_count": null,
   "metadata": {},
   "outputs": [],
   "source": [
    "#creating a variable missing_50 for storing null columns having missing values more than 50%\n",
    "\n",
    "missing_50 = null_values(application_data)[null_values(application_data)>50]"
   ]
  },
  {
   "cell_type": "code",
   "execution_count": null,
   "metadata": {},
   "outputs": [
    {
     "name": "stdout",
     "output_type": "stream",
     "text": [
      "Number of columns having missing values more than 50% : 41\n"
     ]
    }
   ],
   "source": [
    "#revieving missing_50\n",
    "print(\"Number of columns having missing values more than 50% :\",len(null_col_50))"
   ]
  },
  {
   "cell_type": "markdown",
   "metadata": {},
   "source": [
    "**INSIGHT**\n",
    "* **There are 41 columns having null values more than 50% which are related to different area sizes on apartment owned/rented by the loan applicant**"
   ]
  },
  {
   "cell_type": "code",
   "execution_count": null,
   "metadata": {},
   "outputs": [
    {
     "data": {
      "text/plain": [
       "Index(['COMMONAREA_MEDI', 'COMMONAREA_AVG', 'COMMONAREA_MODE',\n",
       "       'NONLIVINGAPARTMENTS_MODE', 'NONLIVINGAPARTMENTS_MEDI',\n",
       "       'NONLIVINGAPARTMENTS_AVG', 'FONDKAPREMONT_MODE',\n",
       "       'LIVINGAPARTMENTS_MEDI', 'LIVINGAPARTMENTS_MODE',\n",
       "       'LIVINGAPARTMENTS_AVG', 'FLOORSMIN_MEDI', 'FLOORSMIN_MODE',\n",
       "       'FLOORSMIN_AVG', 'YEARS_BUILD_MEDI', 'YEARS_BUILD_AVG',\n",
       "       'YEARS_BUILD_MODE', 'OWN_CAR_AGE', 'LANDAREA_MODE', 'LANDAREA_AVG',\n",
       "       'LANDAREA_MEDI', 'BASEMENTAREA_MEDI', 'BASEMENTAREA_AVG',\n",
       "       'BASEMENTAREA_MODE', 'EXT_SOURCE_1', 'NONLIVINGAREA_MEDI',\n",
       "       'NONLIVINGAREA_AVG', 'NONLIVINGAREA_MODE', 'ELEVATORS_MODE',\n",
       "       'ELEVATORS_AVG', 'ELEVATORS_MEDI', 'WALLSMATERIAL_MODE',\n",
       "       'APARTMENTS_MODE', 'APARTMENTS_AVG', 'APARTMENTS_MEDI',\n",
       "       'ENTRANCES_MEDI', 'ENTRANCES_MODE', 'ENTRANCES_AVG', 'LIVINGAREA_MEDI',\n",
       "       'LIVINGAREA_MODE', 'LIVINGAREA_AVG', 'HOUSETYPE_MODE'],\n",
       "      dtype='object')"
      ]
     },
     "execution_count": 13,
     "metadata": {},
     "output_type": "execute_result"
    }
   ],
   "source": [
    "missing_50.index  #  drop all these columns"
   ]
  },
  {
   "cell_type": "code",
   "execution_count": null,
   "metadata": {},
   "outputs": [],
   "source": [
    "# missing_50 column dropping all\n",
    "\n",
    "application_data.drop(columns = missing_50.index, inplace = True)"
   ]
  },
  {
   "cell_type": "code",
   "execution_count": null,
   "metadata": {},
   "outputs": [
    {
     "data": {
      "text/plain": [
       "(307511, 81)"
      ]
     },
     "execution_count": 16,
     "metadata": {},
     "output_type": "execute_result"
    }
   ],
   "source": [
    "application_data.shape  "
   ]
  },
  {
   "cell_type": "markdown",
   "metadata": {},
   "source": [
    "* **After after dropping 41 columns we are left with 81 columns**"
   ]
  },
  {
   "attachments": {},
   "cell_type": "markdown",
   "metadata": {},
   "source": [
    "### null values more than 15%"
   ]
  },
  {
   "cell_type": "code",
   "execution_count": null,
   "metadata": {},
   "outputs": [],
   "source": [
    "\n",
    "missing_15 = null_values(application_data)[null_values(application_data)>15]"
   ]
  },
  {
   "cell_type": "code",
   "execution_count": null,
   "metadata": {},
   "outputs": [
    {
     "data": {
      "text/plain": [
       "FLOORSMAX_AVG                   49.76\n",
       "FLOORSMAX_MEDI                  49.76\n",
       "FLOORSMAX_MODE                  49.76\n",
       "YEARS_BEGINEXPLUATATION_AVG     48.78\n",
       "YEARS_BEGINEXPLUATATION_MEDI    48.78\n",
       "YEARS_BEGINEXPLUATATION_MODE    48.78\n",
       "TOTALAREA_MODE                  48.27\n",
       "EMERGENCYSTATE_MODE             47.40\n",
       "OCCUPATION_TYPE                 31.35\n",
       "EXT_SOURCE_3                    19.83\n",
       "dtype: float64"
      ]
     },
     "execution_count": 20,
     "metadata": {},
     "output_type": "execute_result"
    }
   ],
   "source": [
    "missing_15 "
   ]
  },
  {
   "attachments": {},
   "cell_type": "markdown",
   "metadata": {},
   "source": [
    "* **only 'OCCUPATION_TYPE', 'EXT_SOURCE_3 looks important to TARGET column. (decision from column description)**\n",
    "**Thus dropping all other columns except 'OCCUPATION_TYPE','EXT_SOURCE_3**"
   ]
  },
  {
   "cell_type": "code",
   "execution_count": null,
   "metadata": {},
   "outputs": [],
   "source": [
    "#removing 'OCCUPATION_TYPE', 'EXT_SOURCE_3' from \"null_col_15\" so that we can drop all other at once.\n",
    "\n",
    "missing_15.drop([\"OCCUPATION_TYPE\",\"EXT_SOURCE_3\"], inplace = True)"
   ]
  },
  {
   "cell_type": "code",
   "execution_count": null,
   "metadata": {},
   "outputs": [],
   "source": [
    "#thus removing columns having missing values more than 15% and which are not reletable to TARGET column.\n",
    "\n",
    "application_data.drop(missing_15.index,axis=1, inplace = True)"
   ]
  },
  {
   "cell_type": "code",
   "execution_count": null,
   "metadata": {},
   "outputs": [
    {
     "data": {
      "text/plain": [
       "(307511, 73)"
      ]
     },
     "execution_count": 24,
     "metadata": {},
     "output_type": "execute_result"
    }
   ],
   "source": [
    "application_data.shape  "
   ]
  },
  {
   "cell_type": "markdown",
   "metadata": {},
   "source": [
    "* **After after dropping 8 columns we are left with 73 columns**\n",
    "* **There are 2 more Columns with missing values more than 15%**"
   ]
  },
  {
   "cell_type": "code",
   "execution_count": null,
   "metadata": {},
   "outputs": [
    {
     "data": {
      "text/plain": [
       "OCCUPATION_TYPE               31.35\n",
       "EXT_SOURCE_3                  19.83\n",
       "AMT_REQ_CREDIT_BUREAU_YEAR    13.50\n",
       "AMT_REQ_CREDIT_BUREAU_MON     13.50\n",
       "AMT_REQ_CREDIT_BUREAU_WEEK    13.50\n",
       "AMT_REQ_CREDIT_BUREAU_DAY     13.50\n",
       "AMT_REQ_CREDIT_BUREAU_HOUR    13.50\n",
       "AMT_REQ_CREDIT_BUREAU_QRT     13.50\n",
       "NAME_TYPE_SUITE                0.42\n",
       "OBS_30_CNT_SOCIAL_CIRCLE       0.33\n",
       "dtype: float64"
      ]
     },
     "execution_count": 25,
     "metadata": {},
     "output_type": "execute_result"
    }
   ],
   "source": [
    "null_values(application_data).head(10)"
   ]
  },
  {
   "attachments": {},
   "cell_type": "markdown",
   "metadata": {},
   "source": [
    "### Removing Unneccsary Columns"
   ]
  },
  {
   "attachments": {},
   "cell_type": "markdown",
   "metadata": {},
   "source": [
    "### EXT_SOURCE_3 , EXT_SOURCE_2 are having normalized values.  "
   ]
  },
  {
   "cell_type": "code",
   "execution_count": null,
   "metadata": {},
   "outputs": [],
   "source": [
    "Unneccsary = [\"EXT_SOURCE_3\",\"EXT_SOURCE_2\"]  "
   ]
  },
  {
   "cell_type": "code",
   "execution_count": null,
   "metadata": {},
   "outputs": [
    {
     "data": {
      "image/png": "[encoded data removed]",
      "text/plain": [
       "<Figure size 1000x700 with 2 Axes>"
      ]
     },
     "metadata": {},
     "output_type": "display_data"
    }
   ],
   "source": [
    "plt.figure(figsize= [10,7])\n",
    "\n",
    "sns.heatmap(application_data[Unneccsary+[\"TARGET\"]].corr(), \n",
    "            cmap=\"Reds\",\n",
    "            annot=True)\n",
    "\n",
    "plt.title(\"Correlation matrix between EXT_SOURCE_3, EXT_SOURCE_2, TARGET\", \n",
    "          fontdict={\"fontsize\":20}, \n",
    "          pad=25)\n",
    "plt.show()"
   ]
  },
  {
   "attachments": {},
   "cell_type": "markdown",
   "metadata": {},
   "source": [
    "* **No clear linear correlation can be seen. Deciding to drop them.**"
   ]
  },
  {
   "cell_type": "code",
   "execution_count": null,
   "metadata": {},
   "outputs": [],
   "source": [
    "#dropping Unneccesary c\n",
    "\n",
    "application_data.drop(Unneccsary, axis=1, inplace= True)"
   ]
  },
  {
   "cell_type": "code",
   "execution_count": null,
   "metadata": {},
   "outputs": [
    {
     "data": {
      "text/plain": [
       "(307511, 71)"
      ]
     },
     "execution_count": 30,
     "metadata": {},
     "output_type": "execute_result"
    }
   ],
   "source": [
    "application_data.shape  "
   ]
  },
  {
   "cell_type": "code",
   "execution_count": null,
   "metadata": {},
   "outputs": [
    {
     "data": {
      "text/plain": [
       "OCCUPATION_TYPE               31.35\n",
       "AMT_REQ_CREDIT_BUREAU_YEAR    13.50\n",
       "AMT_REQ_CREDIT_BUREAU_MON     13.50\n",
       "AMT_REQ_CREDIT_BUREAU_WEEK    13.50\n",
       "AMT_REQ_CREDIT_BUREAU_DAY     13.50\n",
       "AMT_REQ_CREDIT_BUREAU_HOUR    13.50\n",
       "AMT_REQ_CREDIT_BUREAU_QRT     13.50\n",
       "NAME_TYPE_SUITE                0.42\n",
       "OBS_30_CNT_SOCIAL_CIRCLE       0.33\n",
       "DEF_30_CNT_SOCIAL_CIRCLE       0.33\n",
       "dtype: float64"
      ]
     },
     "execution_count": 31,
     "metadata": {},
     "output_type": "execute_result"
    }
   ],
   "source": [
    "null_values(application_data).head(10)"
   ]
  },
  {
   "attachments": {},
   "cell_type": "markdown",
   "metadata": {},
   "source": [
    "### Considering columns with FLAGS and their relation with TARGET columns \n"
   ]
  },
  {
   "cell_type": "markdown",
   "metadata": {},
   "source": [
    "**For this we will create a dataframe containig all FLAG columns and then plot bar graphs for each column with respect to TARGET column for which \"0\" will represent as Repayer and \"1\" will represent as Defaulter**"
   ]
  },
  {
   "cell_type": "code",
   "execution_count": null,
   "metadata": {},
   "outputs": [
    {
     "data": {
      "text/plain": [
       "['FLAG_OWN_CAR',\n",
       " 'FLAG_OWN_REALTY',\n",
       " 'FLAG_MOBIL',\n",
       " 'FLAG_EMP_PHONE',\n",
       " 'FLAG_WORK_PHONE',\n",
       " 'FLAG_CONT_MOBILE',\n",
       " 'FLAG_PHONE',\n",
       " 'FLAG_EMAIL',\n",
       " 'FLAG_DOCUMENT_2',\n",
       " 'FLAG_DOCUMENT_3',\n",
       " 'FLAG_DOCUMENT_4',\n",
       " 'FLAG_DOCUMENT_5',\n",
       " 'FLAG_DOCUMENT_6',\n",
       " 'FLAG_DOCUMENT_7',\n",
       " 'FLAG_DOCUMENT_8',\n",
       " 'FLAG_DOCUMENT_9',\n",
       " 'FLAG_DOCUMENT_10',\n",
       " 'FLAG_DOCUMENT_11',\n",
       " 'FLAG_DOCUMENT_12',\n",
       " 'FLAG_DOCUMENT_13',\n",
       " 'FLAG_DOCUMENT_14',\n",
       " 'FLAG_DOCUMENT_15',\n",
       " 'FLAG_DOCUMENT_16',\n",
       " 'FLAG_DOCUMENT_17',\n",
       " 'FLAG_DOCUMENT_18',\n",
       " 'FLAG_DOCUMENT_19',\n",
       " 'FLAG_DOCUMENT_20',\n",
       " 'FLAG_DOCUMENT_21']"
      ]
     },
     "execution_count": 32,
     "metadata": {},
     "output_type": "execute_result"
    }
   ],
   "source": [
    "# adding all flags coloumns in variable \"flag_columns\"\n",
    "\n",
    "flag_columns = [col for col in application_data.columns if \"FLAG\" in col]\n",
    "\n",
    "flag_columns  # Viewing all FLAG columns"
   ]
  },
  {
   "cell_type": "code",
   "execution_count": null,
   "metadata": {},
   "outputs": [],
   "source": [
    "# creating flag_df dataframe having all FLAG columns and TARGET column\n",
    "\n",
    "flag_df = application_data[flag_columns+[\"TARGET\"]]"
   ]
  },
  {
   "cell_type": "code",
   "execution_count": null,
   "metadata": {},
   "outputs": [
    {
     "name": "stderr",
     "output_type": "stream",
     "text": [
      "/Users/anurag/Desktop/Appinventiv/enve/lib/python3.7/site-packages/ipykernel_launcher.py:4: SettingWithCopyWarning: \n",
      "A value is trying to be set on a copy of a slice from a DataFrame.\n",
      "Try using .loc[row_indexer,col_indexer] = value instead\n",
      "\n",
      "See the caveats in the documentation: https://pandas.pydata.org/pandas-docs/stable/user_guide/indexing.html#returning-a-view-versus-a-copy\n",
      "  after removing the cwd from sys.path.\n"
     ]
    }
   ],
   "source": [
    "# mapping \"0\" to repayer and \"1\" to defaulter for TARGET column\n",
    "\n",
    "flag_df[\"TARGET\"] = flag_df[\"TARGET\"].replace({1:\"Defaulter\", \n",
    "                                               0:\"Repayer\"})"
   ]
  },
  {
   "cell_type": "code",
   "execution_count": null,
   "metadata": {},
   "outputs": [
    {
     "name": "stderr",
     "output_type": "stream",
     "text": [
      "/Users/anurag/Desktop/Appinventiv/enve/lib/python3.7/site-packages/ipykernel_launcher.py:5: SettingWithCopyWarning: \n",
      "A value is trying to be set on a copy of a slice from a DataFrame.\n",
      "Try using .loc[row_indexer,col_indexer] = value instead\n",
      "\n",
      "See the caveats in the documentation: https://pandas.pydata.org/pandas-docs/stable/user_guide/indexing.html#returning-a-view-versus-a-copy\n",
      "  \"\"\"\n"
     ]
    }
   ],
   "source": [
    "# Mapping  \"1\" as Y being TRUE and \"0\" as N being False\n",
    "\n",
    "for i in flag_df:\n",
    "    if i!= \"TARGET\":\n",
    "        flag_df[i] = flag_df[i].replace({1:\"Y\", 0:\"N\"})"
   ]
  },
  {
   "cell_type": "code",
   "execution_count": null,
   "metadata": {},
   "outputs": [
    {
     "data": {
      "text/html": [
       "<div>\n",
       "<style scoped>\n",
       "    .dataframe tbody tr th:only-of-type {\n",
       "        vertical-align: middle;\n",
       "    }\n",
       "\n",
       "    .dataframe tbody tr th {\n",
       "        vertical-align: top;\n",
       "    }\n",
       "\n",
       "    .dataframe thead th {\n",
       "        text-align: right;\n",
       "    }\n",
       "</style>\n",
       "<table border=\"1\" class=\"dataframe\">\n",
       "  <thead>\n",
       "    <tr style=\"text-align: right;\">\n",
       "      <th></th>\n",
       "      <th>FLAG_OWN_CAR</th>\n",
       "      <th>FLAG_OWN_REALTY</th>\n",
       "      <th>FLAG_MOBIL</th>\n",
       "      <th>FLAG_EMP_PHONE</th>\n",
       "      <th>FLAG_WORK_PHONE</th>\n",
       "      <th>FLAG_CONT_MOBILE</th>\n",
       "      <th>FLAG_PHONE</th>\n",
       "      <th>FLAG_EMAIL</th>\n",
       "      <th>FLAG_DOCUMENT_2</th>\n",
       "      <th>FLAG_DOCUMENT_3</th>\n",
       "      <th>...</th>\n",
       "      <th>FLAG_DOCUMENT_13</th>\n",
       "      <th>FLAG_DOCUMENT_14</th>\n",
       "      <th>FLAG_DOCUMENT_15</th>\n",
       "      <th>FLAG_DOCUMENT_16</th>\n",
       "      <th>FLAG_DOCUMENT_17</th>\n",
       "      <th>FLAG_DOCUMENT_18</th>\n",
       "      <th>FLAG_DOCUMENT_19</th>\n",
       "      <th>FLAG_DOCUMENT_20</th>\n",
       "      <th>FLAG_DOCUMENT_21</th>\n",
       "      <th>TARGET</th>\n",
       "    </tr>\n",
       "  </thead>\n",
       "  <tbody>\n",
       "    <tr>\n",
       "      <th>0</th>\n",
       "      <td>N</td>\n",
       "      <td>Y</td>\n",
       "      <td>Y</td>\n",
       "      <td>Y</td>\n",
       "      <td>N</td>\n",
       "      <td>Y</td>\n",
       "      <td>Y</td>\n",
       "      <td>N</td>\n",
       "      <td>N</td>\n",
       "      <td>Y</td>\n",
       "      <td>...</td>\n",
       "      <td>N</td>\n",
       "      <td>N</td>\n",
       "      <td>N</td>\n",
       "      <td>N</td>\n",
       "      <td>N</td>\n",
       "      <td>N</td>\n",
       "      <td>N</td>\n",
       "      <td>N</td>\n",
       "      <td>N</td>\n",
       "      <td>Defaulter</td>\n",
       "    </tr>\n",
       "    <tr>\n",
       "      <th>1</th>\n",
       "      <td>N</td>\n",
       "      <td>N</td>\n",
       "      <td>Y</td>\n",
       "      <td>Y</td>\n",
       "      <td>N</td>\n",
       "      <td>Y</td>\n",
       "      <td>Y</td>\n",
       "      <td>N</td>\n",
       "      <td>N</td>\n",
       "      <td>Y</td>\n",
       "      <td>...</td>\n",
       "      <td>N</td>\n",
       "      <td>N</td>\n",
       "      <td>N</td>\n",
       "      <td>N</td>\n",
       "      <td>N</td>\n",
       "      <td>N</td>\n",
       "      <td>N</td>\n",
       "      <td>N</td>\n",
       "      <td>N</td>\n",
       "      <td>Repayer</td>\n",
       "    </tr>\n",
       "    <tr>\n",
       "      <th>2</th>\n",
       "      <td>Y</td>\n",
       "      <td>Y</td>\n",
       "      <td>Y</td>\n",
       "      <td>Y</td>\n",
       "      <td>Y</td>\n",
       "      <td>Y</td>\n",
       "      <td>Y</td>\n",
       "      <td>N</td>\n",
       "      <td>N</td>\n",
       "      <td>N</td>\n",
       "      <td>...</td>\n",
       "      <td>N</td>\n",
       "      <td>N</td>\n",
       "      <td>N</td>\n",
       "      <td>N</td>\n",
       "      <td>N</td>\n",
       "      <td>N</td>\n",
       "      <td>N</td>\n",
       "      <td>N</td>\n",
       "      <td>N</td>\n",
       "      <td>Repayer</td>\n",
       "    </tr>\n",
       "    <tr>\n",
       "      <th>3</th>\n",
       "      <td>N</td>\n",
       "      <td>Y</td>\n",
       "      <td>Y</td>\n",
       "      <td>Y</td>\n",
       "      <td>N</td>\n",
       "      <td>Y</td>\n",
       "      <td>N</td>\n",
       "      <td>N</td>\n",
       "      <td>N</td>\n",
       "      <td>Y</td>\n",
       "      <td>...</td>\n",
       "      <td>N</td>\n",
       "      <td>N</td>\n",
       "      <td>N</td>\n",
       "      <td>N</td>\n",
       "      <td>N</td>\n",
       "      <td>N</td>\n",
       "      <td>N</td>\n",
       "      <td>N</td>\n",
       "      <td>N</td>\n",
       "      <td>Repayer</td>\n",
       "    </tr>\n",
       "    <tr>\n",
       "      <th>4</th>\n",
       "      <td>N</td>\n",
       "      <td>Y</td>\n",
       "      <td>Y</td>\n",
       "      <td>Y</td>\n",
       "      <td>N</td>\n",
       "      <td>Y</td>\n",
       "      <td>N</td>\n",
       "      <td>N</td>\n",
       "      <td>N</td>\n",
       "      <td>N</td>\n",
       "      <td>...</td>\n",
       "      <td>N</td>\n",
       "      <td>N</td>\n",
       "      <td>N</td>\n",
       "      <td>N</td>\n",
       "      <td>N</td>\n",
       "      <td>N</td>\n",
       "      <td>N</td>\n",
       "      <td>N</td>\n",
       "      <td>N</td>\n",
       "      <td>Repayer</td>\n",
       "    </tr>\n",
       "  </tbody>\n",
       "</table>\n",
       "<p>5 rows × 29 columns</p>\n",
       "</div>"
      ],
      "text/plain": [
       "  FLAG_OWN_CAR FLAG_OWN_REALTY FLAG_MOBIL FLAG_EMP_PHONE FLAG_WORK_PHONE  \\\n",
       "0            N               Y          Y              Y               N   \n",
       "1            N               N          Y              Y               N   \n",
       "2            Y               Y          Y              Y               Y   \n",
       "3            N               Y          Y              Y               N   \n",
       "4            N               Y          Y              Y               N   \n",
       "\n",
       "  FLAG_CONT_MOBILE FLAG_PHONE FLAG_EMAIL FLAG_DOCUMENT_2 FLAG_DOCUMENT_3  ...  \\\n",
       "0                Y          Y          N               N               Y  ...   \n",
       "1                Y          Y          N               N               Y  ...   \n",
       "2                Y          Y          N               N               N  ...   \n",
       "3                Y          N          N               N               Y  ...   \n",
       "4                Y          N          N               N               N  ...   \n",
       "\n",
       "  FLAG_DOCUMENT_13 FLAG_DOCUMENT_14 FLAG_DOCUMENT_15 FLAG_DOCUMENT_16  \\\n",
       "0                N                N                N                N   \n",
       "1                N                N                N                N   \n",
       "2                N                N                N                N   \n",
       "3                N                N                N                N   \n",
       "4                N                N                N                N   \n",
       "\n",
       "  FLAG_DOCUMENT_17 FLAG_DOCUMENT_18 FLAG_DOCUMENT_19 FLAG_DOCUMENT_20  \\\n",
       "0                N                N                N                N   \n",
       "1                N                N                N                N   \n",
       "2                N                N                N                N   \n",
       "3                N                N                N                N   \n",
       "4                N                N                N                N   \n",
       "\n",
       "  FLAG_DOCUMENT_21     TARGET  \n",
       "0                N  Defaulter  \n",
       "1                N    Repayer  \n",
       "2                N    Repayer  \n",
       "3                N    Repayer  \n",
       "4                N    Repayer  \n",
       "\n",
       "[5 rows x 29 columns]"
      ]
     },
     "execution_count": 37,
     "metadata": {},
     "output_type": "execute_result"
    }
   ],
   "source": [
    "flag_df.head()"
   ]
  },
  {
   "cell_type": "code",
   "execution_count": null,
   "metadata": {},
   "outputs": [
    {
     "data": {
      "image/png": "[encoded data removed]",
      "text/plain": [
       "<Figure size 2000x2400 with 28 Axes>"
      ]
     },
     "metadata": {},
     "output_type": "display_data"
    }
   ],
   "source": [
    "import itertools \n",
    "\n",
    "# Plotting all the graph to find the relation and evaluting for dropping such columns\n",
    "\n",
    "plt.figure(figsize = [20,24])\n",
    "\n",
    "for i,j in itertools.zip_longest(flag_columns,range(len(flag_columns))):\n",
    "    plt.subplot(7,4,j+1)\n",
    "    ax = sns.countplot(x=flag_df[i], \n",
    "                       hue = flag_df[\"TARGET\"], \n",
    "                       palette = [\"r\",\"g\"])\n",
    "    plt.yticks(fontsize=8)\n",
    "    plt.xlabel(\"\")\n",
    "    plt.ylabel(\"\")\n",
    "    plt.title(i)"
   ]
  },
  {
   "attachments": {},
   "cell_type": "markdown",
   "metadata": {},
   "source": [
    "**INSIGHT**\n",
    "\n",
    "* **Following Columns have more repayers than defaulter:**\n",
    "    - FLAG_OWN_REALTY, \n",
    "    - FLAG_MOBIL ,\n",
    "    - FLAG_EMP_PHONE, \n",
    "    - FLAG_CONT_MOBILE, \n",
    "    - FLAG_DOCUMENT_3 \n",
    "\n",
    "**keeping** \n",
    "    - FLAG_DOCUMENT_3,\n",
    "    - FLAG_OWN_REALTY, \n",
    "    - FLAG_MOBIL  \n",
    "\n",
    "**dropping all other FLAG columns.**\n"
   ]
  },
  {
   "cell_type": "code",
   "execution_count": null,
   "metadata": {},
   "outputs": [
    {
     "name": "stderr",
     "output_type": "stream",
     "text": [
      "/Users/anurag/Desktop/Appinventiv/enve/lib/python3.7/site-packages/pandas/core/frame.py:4174: SettingWithCopyWarning: \n",
      "A value is trying to be set on a copy of a slice from a DataFrame\n",
      "\n",
      "See the caveats in the documentation: https://pandas.pydata.org/pandas-docs/stable/user_guide/indexing.html#returning-a-view-versus-a-copy\n",
      "  errors=errors,\n"
     ]
    }
   ],
   "source": [
    "flag_df.drop([\"TARGET\",\"FLAG_OWN_REALTY\",\"FLAG_MOBIL\",\"FLAG_DOCUMENT_3\"], axis=1 , inplace = True)"
   ]
  },
  {
   "cell_type": "code",
   "execution_count": null,
   "metadata": {},
   "outputs": [
    {
     "data": {
      "text/plain": [
       "25"
      ]
     },
     "metadata": {},
     "output_type": "display_data"
    }
   ],
   "source": [
    "len(flag_df.columns)"
   ]
  },
  {
   "cell_type": "code",
   "execution_count": null,
   "metadata": {},
   "outputs": [],
   "source": [
    "# dropping the columns of \"flag_df\" dataframe \n",
    "application_data.drop(flag_df.columns, axis=1, inplace= True)"
   ]
  },
  {
   "cell_type": "code",
   "execution_count": null,
   "metadata": {},
   "outputs": [
    {
     "data": {
      "text/plain": [
       "(307511, 46)"
      ]
     },
     "execution_count": 43,
     "metadata": {},
     "output_type": "execute_result"
    }
   ],
   "source": [
    "application_data.shape   "
   ]
  },
  {
   "attachments": {},
   "cell_type": "markdown",
   "metadata": {},
   "source": [
    "## Imputing values"
   ]
  },
  {
   "cell_type": "code",
   "execution_count": null,
   "metadata": {},
   "outputs": [
    {
     "data": {
      "text/plain": [
       "OCCUPATION_TYPE               31.35\n",
       "AMT_REQ_CREDIT_BUREAU_YEAR    13.50\n",
       "AMT_REQ_CREDIT_BUREAU_QRT     13.50\n",
       "AMT_REQ_CREDIT_BUREAU_MON     13.50\n",
       "AMT_REQ_CREDIT_BUREAU_WEEK    13.50\n",
       "AMT_REQ_CREDIT_BUREAU_DAY     13.50\n",
       "AMT_REQ_CREDIT_BUREAU_HOUR    13.50\n",
       "NAME_TYPE_SUITE                0.42\n",
       "DEF_60_CNT_SOCIAL_CIRCLE       0.33\n",
       "OBS_60_CNT_SOCIAL_CIRCLE       0.33\n",
       "dtype: float64"
      ]
     },
     "execution_count": 44,
     "metadata": {},
     "output_type": "execute_result"
    }
   ],
   "source": [
    "null_values(application_data).head(10)"
   ]
  },
  {
   "attachments": {},
   "cell_type": "markdown",
   "metadata": {},
   "source": [
    "**Insight**\n",
    "* **Immputing 7 columns have missing values more than 1%.** \n",
    "columns are: \n",
    "    - OCCUPATION_TYPE\n",
    "    - AMT_REQ_CREDIT_BUREAU_YEAR \n",
    "    - AMT_REQ_CREDIT_BUREAU_QRT \n",
    "    - AMT_REQ_CREDIT_BUREAU_MON \n",
    "    - AMT_REQ_CREDIT_BUREAU_WEEK \n",
    "    - AMT_REQ_CREDIT_BUREAU_DAY\n",
    "    - AMT_REQ_CREDIT_BUREAU_HOUR"
   ]
  },
  {
   "attachments": {},
   "cell_type": "markdown",
   "metadata": {},
   "source": [
    "### Imputing for \"OCCUPATION_TYPE\" column"
   ]
  },
  {
   "cell_type": "code",
   "execution_count": null,
   "metadata": {},
   "outputs": [
    {
     "data": {
      "text/plain": [
       "Laborers                 26.139636\n",
       "Sales staff              15.205570\n",
       "Core staff               13.058924\n",
       "Managers                 10.122679\n",
       "Drivers                   8.811576\n",
       "High skill tech staff     5.390299\n",
       "Accountants               4.648067\n",
       "Medicine staff            4.043672\n",
       "Security staff            3.183498\n",
       "Cooking staff             2.816408\n",
       "Cleaning staff            2.203960\n",
       "Private service staff     1.256158\n",
       "Low-skill Laborers        0.991379\n",
       "Waiters/barmen staff      0.638499\n",
       "Secretaries               0.618132\n",
       "Realty agents             0.355722\n",
       "HR staff                  0.266673\n",
       "IT staff                  0.249147\n",
       "Name: OCCUPATION_TYPE, dtype: float64"
      ]
     },
     "execution_count": 45,
     "metadata": {},
     "output_type": "execute_result"
    }
   ],
   "source": [
    "#Percentage of each category present in \"OCCUPATION_TYPE\"\n",
    "\n",
    "application_data[\"OCCUPATION_TYPE\"].value_counts(normalize=True)*100"
   ]
  },
  {
   "attachments": {},
   "cell_type": "markdown",
   "metadata": {},
   "source": [
    "**Insight:**\n",
    "* **columnn is categorical.** \n",
    "* **impute another category as \"Unknown\" for the missing values.**"
   ]
  },
  {
   "cell_type": "code",
   "execution_count": null,
   "metadata": {},
   "outputs": [],
   "source": [
    "# imputing null values with \"Unknown\"\n",
    "\n",
    "application_data[\"OCCUPATION_TYPE\"] = application_data[\"OCCUPATION_TYPE\"].fillna(\"Unknown\") "
   ]
  },
  {
   "cell_type": "code",
   "execution_count": null,
   "metadata": {},
   "outputs": [
    {
     "data": {
      "text/plain": [
       "0"
      ]
     },
     "execution_count": 47,
     "metadata": {},
     "output_type": "execute_result"
    }
   ],
   "source": [
    "application_data[\"OCCUPATION_TYPE\"].isnull().sum() "
   ]
  },
  {
   "cell_type": "code",
   "execution_count": null,
   "metadata": {},
   "outputs": [
    {
     "data": {
      "image/png": "[encoded data removed]",
      "text/plain": [
       "<Figure size 1200x700 with 1 Axes>"
      ]
     },
     "metadata": {},
     "output_type": "display_data"
    }
   ],
   "source": [
    "# Plotting a percentage graph having each category of \"OCCUPATION_TYPE\"\n",
    "\n",
    "plt.figure(figsize = [12,7])\n",
    "(application_data[\"OCCUPATION_TYPE\"].value_counts()).plot.barh(color= \"Blue\",\n",
    "                                                               width = .8)\n",
    "plt.title(\"Percentage of Type of Occupations\", \n",
    "          fontdict={\"fontsize\":20}, \n",
    "          pad =20)\n",
    "plt.show()"
   ]
  },
  {
   "attachments": {},
   "cell_type": "markdown",
   "metadata": {},
   "source": [
    "* **Highest percentage of values: Unknown** \n",
    "* **Second Highest percentage of values: Laborers**"
   ]
  },
  {
   "cell_type": "code",
   "execution_count": null,
   "metadata": {},
   "outputs": [
    {
     "data": {
      "text/html": [
       "<div>\n",
       "<style scoped>\n",
       "    .dataframe tbody tr th:only-of-type {\n",
       "        vertical-align: middle;\n",
       "    }\n",
       "\n",
       "    .dataframe tbody tr th {\n",
       "        vertical-align: top;\n",
       "    }\n",
       "\n",
       "    .dataframe thead th {\n",
       "        text-align: right;\n",
       "    }\n",
       "</style>\n",
       "<table border=\"1\" class=\"dataframe\">\n",
       "  <thead>\n",
       "    <tr style=\"text-align: right;\">\n",
       "      <th></th>\n",
       "      <th>AMT_REQ_CREDIT_BUREAU_YEAR</th>\n",
       "      <th>AMT_REQ_CREDIT_BUREAU_QRT</th>\n",
       "      <th>AMT_REQ_CREDIT_BUREAU_MON</th>\n",
       "      <th>AMT_REQ_CREDIT_BUREAU_WEEK</th>\n",
       "      <th>AMT_REQ_CREDIT_BUREAU_DAY</th>\n",
       "      <th>AMT_REQ_CREDIT_BUREAU_HOUR</th>\n",
       "    </tr>\n",
       "  </thead>\n",
       "  <tbody>\n",
       "    <tr>\n",
       "      <th>count</th>\n",
       "      <td>265992.000000</td>\n",
       "      <td>265992.000000</td>\n",
       "      <td>265992.000000</td>\n",
       "      <td>265992.000000</td>\n",
       "      <td>265992.000000</td>\n",
       "      <td>265992.000000</td>\n",
       "    </tr>\n",
       "    <tr>\n",
       "      <th>mean</th>\n",
       "      <td>1.899974</td>\n",
       "      <td>0.265474</td>\n",
       "      <td>0.267395</td>\n",
       "      <td>0.034362</td>\n",
       "      <td>0.007000</td>\n",
       "      <td>0.006402</td>\n",
       "    </tr>\n",
       "    <tr>\n",
       "      <th>std</th>\n",
       "      <td>1.869295</td>\n",
       "      <td>0.794056</td>\n",
       "      <td>0.916002</td>\n",
       "      <td>0.204685</td>\n",
       "      <td>0.110757</td>\n",
       "      <td>0.083849</td>\n",
       "    </tr>\n",
       "    <tr>\n",
       "      <th>min</th>\n",
       "      <td>0.000000</td>\n",
       "      <td>0.000000</td>\n",
       "      <td>0.000000</td>\n",
       "      <td>0.000000</td>\n",
       "      <td>0.000000</td>\n",
       "      <td>0.000000</td>\n",
       "    </tr>\n",
       "    <tr>\n",
       "      <th>25%</th>\n",
       "      <td>0.000000</td>\n",
       "      <td>0.000000</td>\n",
       "      <td>0.000000</td>\n",
       "      <td>0.000000</td>\n",
       "      <td>0.000000</td>\n",
       "      <td>0.000000</td>\n",
       "    </tr>\n",
       "    <tr>\n",
       "      <th>50%</th>\n",
       "      <td>1.000000</td>\n",
       "      <td>0.000000</td>\n",
       "      <td>0.000000</td>\n",
       "      <td>0.000000</td>\n",
       "      <td>0.000000</td>\n",
       "      <td>0.000000</td>\n",
       "    </tr>\n",
       "    <tr>\n",
       "      <th>75%</th>\n",
       "      <td>3.000000</td>\n",
       "      <td>0.000000</td>\n",
       "      <td>0.000000</td>\n",
       "      <td>0.000000</td>\n",
       "      <td>0.000000</td>\n",
       "      <td>0.000000</td>\n",
       "    </tr>\n",
       "    <tr>\n",
       "      <th>max</th>\n",
       "      <td>25.000000</td>\n",
       "      <td>261.000000</td>\n",
       "      <td>27.000000</td>\n",
       "      <td>8.000000</td>\n",
       "      <td>9.000000</td>\n",
       "      <td>4.000000</td>\n",
       "    </tr>\n",
       "  </tbody>\n",
       "</table>\n",
       "</div>"
      ],
      "text/plain": [
       "       AMT_REQ_CREDIT_BUREAU_YEAR  AMT_REQ_CREDIT_BUREAU_QRT  \\\n",
       "count               265992.000000              265992.000000   \n",
       "mean                     1.899974                   0.265474   \n",
       "std                      1.869295                   0.794056   \n",
       "min                      0.000000                   0.000000   \n",
       "25%                      0.000000                   0.000000   \n",
       "50%                      1.000000                   0.000000   \n",
       "75%                      3.000000                   0.000000   \n",
       "max                     25.000000                 261.000000   \n",
       "\n",
       "       AMT_REQ_CREDIT_BUREAU_MON  AMT_REQ_CREDIT_BUREAU_WEEK  \\\n",
       "count              265992.000000               265992.000000   \n",
       "mean                    0.267395                    0.034362   \n",
       "std                     0.916002                    0.204685   \n",
       "min                     0.000000                    0.000000   \n",
       "25%                     0.000000                    0.000000   \n",
       "50%                     0.000000                    0.000000   \n",
       "75%                     0.000000                    0.000000   \n",
       "max                    27.000000                    8.000000   \n",
       "\n",
       "       AMT_REQ_CREDIT_BUREAU_DAY  AMT_REQ_CREDIT_BUREAU_HOUR  \n",
       "count              265992.000000               265992.000000  \n",
       "mean                    0.007000                    0.006402  \n",
       "std                     0.110757                    0.083849  \n",
       "min                     0.000000                    0.000000  \n",
       "25%                     0.000000                    0.000000  \n",
       "50%                     0.000000                    0.000000  \n",
       "75%                     0.000000                    0.000000  \n",
       "max                     9.000000                    4.000000  "
      ]
     },
     "execution_count": 51,
     "metadata": {},
     "output_type": "execute_result"
    }
   ],
   "source": [
    "application_data[[\"AMT_REQ_CREDIT_BUREAU_YEAR\",\n",
    "                  \"AMT_REQ_CREDIT_BUREAU_QRT\",\n",
    "                  \"AMT_REQ_CREDIT_BUREAU_MON\",\n",
    "                  \"AMT_REQ_CREDIT_BUREAU_WEEK\",\n",
    "                  \"AMT_REQ_CREDIT_BUREAU_DAY\",\n",
    "                  \"AMT_REQ_CREDIT_BUREAU_HOUR\"]].describe()"
   ]
  },
  {
   "attachments": {},
   "cell_type": "markdown",
   "metadata": {},
   "source": [
    "**These columns discrete in nature, thus imputation will require median value.**"
   ]
  },
  {
   "cell_type": "code",
   "execution_count": null,
   "metadata": {},
   "outputs": [],
   "source": [
    "amount_credit = [\"AMT_REQ_CREDIT_BUREAU_YEAR\",\n",
    "                 \"AMT_REQ_CREDIT_BUREAU_QRT\",\n",
    "                 \"AMT_REQ_CREDIT_BUREAU_MON\",\n",
    "                 \"AMT_REQ_CREDIT_BUREAU_WEEK\",\n",
    "                 \"AMT_REQ_CREDIT_BUREAU_DAY\",\n",
    "                 \"AMT_REQ_CREDIT_BUREAU_HOUR\"]"
   ]
  },
  {
   "cell_type": "code",
   "execution_count": null,
   "metadata": {},
   "outputs": [],
   "source": [
    "#filling missing values with median values\n",
    "\n",
    "application_data.fillna(application_data[amount_credit].median(),inplace = True)"
   ]
  },
  {
   "cell_type": "code",
   "execution_count": null,
   "metadata": {},
   "outputs": [
    {
     "data": {
      "text/plain": [
       "NAME_TYPE_SUITE             0.42\n",
       "DEF_60_CNT_SOCIAL_CIRCLE    0.33\n",
       "OBS_60_CNT_SOCIAL_CIRCLE    0.33\n",
       "DEF_30_CNT_SOCIAL_CIRCLE    0.33\n",
       "OBS_30_CNT_SOCIAL_CIRCLE    0.33\n",
       "AMT_GOODS_PRICE             0.09\n",
       "AMT_ANNUITY                 0.00\n",
       "CNT_FAM_MEMBERS             0.00\n",
       "DAYS_LAST_PHONE_CHANGE      0.00\n",
       "DAYS_EMPLOYED               0.00\n",
       "dtype: float64"
      ]
     },
     "execution_count": 55,
     "metadata": {},
     "output_type": "execute_result"
    }
   ],
   "source": [
    "null_values(application_data).head(10)"
   ]
  },
  {
   "attachments": {},
   "cell_type": "markdown",
   "metadata": {},
   "source": [
    "## Standardization"
   ]
  },
  {
   "cell_type": "code",
   "execution_count": null,
   "metadata": {},
   "outputs": [
    {
     "data": {
      "text/html": [
       "<div>\n",
       "<style scoped>\n",
       "    .dataframe tbody tr th:only-of-type {\n",
       "        vertical-align: middle;\n",
       "    }\n",
       "\n",
       "    .dataframe tbody tr th {\n",
       "        vertical-align: top;\n",
       "    }\n",
       "\n",
       "    .dataframe thead th {\n",
       "        text-align: right;\n",
       "    }\n",
       "</style>\n",
       "<table border=\"1\" class=\"dataframe\">\n",
       "  <thead>\n",
       "    <tr style=\"text-align: right;\">\n",
       "      <th></th>\n",
       "      <th>SK_ID_CURR</th>\n",
       "      <th>TARGET</th>\n",
       "      <th>CNT_CHILDREN</th>\n",
       "      <th>AMT_INCOME_TOTAL</th>\n",
       "      <th>AMT_CREDIT</th>\n",
       "      <th>AMT_ANNUITY</th>\n",
       "      <th>AMT_GOODS_PRICE</th>\n",
       "      <th>REGION_POPULATION_RELATIVE</th>\n",
       "      <th>DAYS_BIRTH</th>\n",
       "      <th>DAYS_EMPLOYED</th>\n",
       "      <th>...</th>\n",
       "      <th>OBS_60_CNT_SOCIAL_CIRCLE</th>\n",
       "      <th>DEF_60_CNT_SOCIAL_CIRCLE</th>\n",
       "      <th>DAYS_LAST_PHONE_CHANGE</th>\n",
       "      <th>FLAG_DOCUMENT_3</th>\n",
       "      <th>AMT_REQ_CREDIT_BUREAU_HOUR</th>\n",
       "      <th>AMT_REQ_CREDIT_BUREAU_DAY</th>\n",
       "      <th>AMT_REQ_CREDIT_BUREAU_WEEK</th>\n",
       "      <th>AMT_REQ_CREDIT_BUREAU_MON</th>\n",
       "      <th>AMT_REQ_CREDIT_BUREAU_QRT</th>\n",
       "      <th>AMT_REQ_CREDIT_BUREAU_YEAR</th>\n",
       "    </tr>\n",
       "  </thead>\n",
       "  <tbody>\n",
       "    <tr>\n",
       "      <th>count</th>\n",
       "      <td>307511.000000</td>\n",
       "      <td>307511.000000</td>\n",
       "      <td>307511.000000</td>\n",
       "      <td>3.075110e+05</td>\n",
       "      <td>3.075110e+05</td>\n",
       "      <td>307499.000000</td>\n",
       "      <td>3.072330e+05</td>\n",
       "      <td>307511.000000</td>\n",
       "      <td>307511.000000</td>\n",
       "      <td>307511.000000</td>\n",
       "      <td>...</td>\n",
       "      <td>306490.000000</td>\n",
       "      <td>306490.000000</td>\n",
       "      <td>307510.000000</td>\n",
       "      <td>307511.000000</td>\n",
       "      <td>307511.000000</td>\n",
       "      <td>307511.000000</td>\n",
       "      <td>307511.000000</td>\n",
       "      <td>307511.000000</td>\n",
       "      <td>307511.000000</td>\n",
       "      <td>307511.000000</td>\n",
       "    </tr>\n",
       "    <tr>\n",
       "      <th>mean</th>\n",
       "      <td>278180.518577</td>\n",
       "      <td>0.080729</td>\n",
       "      <td>0.417052</td>\n",
       "      <td>1.687979e+05</td>\n",
       "      <td>5.990260e+05</td>\n",
       "      <td>27108.573909</td>\n",
       "      <td>5.383962e+05</td>\n",
       "      <td>0.020868</td>\n",
       "      <td>-16036.995067</td>\n",
       "      <td>63815.045904</td>\n",
       "      <td>...</td>\n",
       "      <td>1.405292</td>\n",
       "      <td>0.100049</td>\n",
       "      <td>-962.858788</td>\n",
       "      <td>0.710023</td>\n",
       "      <td>0.005538</td>\n",
       "      <td>0.006055</td>\n",
       "      <td>0.029723</td>\n",
       "      <td>0.231293</td>\n",
       "      <td>0.229631</td>\n",
       "      <td>1.778463</td>\n",
       "    </tr>\n",
       "    <tr>\n",
       "      <th>std</th>\n",
       "      <td>102790.175348</td>\n",
       "      <td>0.272419</td>\n",
       "      <td>0.722121</td>\n",
       "      <td>2.371231e+05</td>\n",
       "      <td>4.024908e+05</td>\n",
       "      <td>14493.737315</td>\n",
       "      <td>3.694465e+05</td>\n",
       "      <td>0.013831</td>\n",
       "      <td>4363.988632</td>\n",
       "      <td>141275.766519</td>\n",
       "      <td>...</td>\n",
       "      <td>2.379803</td>\n",
       "      <td>0.362291</td>\n",
       "      <td>826.808487</td>\n",
       "      <td>0.453752</td>\n",
       "      <td>0.078014</td>\n",
       "      <td>0.103037</td>\n",
       "      <td>0.190728</td>\n",
       "      <td>0.856810</td>\n",
       "      <td>0.744059</td>\n",
       "      <td>1.765523</td>\n",
       "    </tr>\n",
       "    <tr>\n",
       "      <th>min</th>\n",
       "      <td>100002.000000</td>\n",
       "      <td>0.000000</td>\n",
       "      <td>0.000000</td>\n",
       "      <td>2.565000e+04</td>\n",
       "      <td>4.500000e+04</td>\n",
       "      <td>1615.500000</td>\n",
       "      <td>4.050000e+04</td>\n",
       "      <td>0.000290</td>\n",
       "      <td>-25229.000000</td>\n",
       "      <td>-17912.000000</td>\n",
       "      <td>...</td>\n",
       "      <td>0.000000</td>\n",
       "      <td>0.000000</td>\n",
       "      <td>-4292.000000</td>\n",
       "      <td>0.000000</td>\n",
       "      <td>0.000000</td>\n",
       "      <td>0.000000</td>\n",
       "      <td>0.000000</td>\n",
       "      <td>0.000000</td>\n",
       "      <td>0.000000</td>\n",
       "      <td>0.000000</td>\n",
       "    </tr>\n",
       "    <tr>\n",
       "      <th>25%</th>\n",
       "      <td>189145.500000</td>\n",
       "      <td>0.000000</td>\n",
       "      <td>0.000000</td>\n",
       "      <td>1.125000e+05</td>\n",
       "      <td>2.700000e+05</td>\n",
       "      <td>16524.000000</td>\n",
       "      <td>2.385000e+05</td>\n",
       "      <td>0.010006</td>\n",
       "      <td>-19682.000000</td>\n",
       "      <td>-2760.000000</td>\n",
       "      <td>...</td>\n",
       "      <td>0.000000</td>\n",
       "      <td>0.000000</td>\n",
       "      <td>-1570.000000</td>\n",
       "      <td>0.000000</td>\n",
       "      <td>0.000000</td>\n",
       "      <td>0.000000</td>\n",
       "      <td>0.000000</td>\n",
       "      <td>0.000000</td>\n",
       "      <td>0.000000</td>\n",
       "      <td>1.000000</td>\n",
       "    </tr>\n",
       "    <tr>\n",
       "      <th>50%</th>\n",
       "      <td>278202.000000</td>\n",
       "      <td>0.000000</td>\n",
       "      <td>0.000000</td>\n",
       "      <td>1.471500e+05</td>\n",
       "      <td>5.135310e+05</td>\n",
       "      <td>24903.000000</td>\n",
       "      <td>4.500000e+05</td>\n",
       "      <td>0.018850</td>\n",
       "      <td>-15750.000000</td>\n",
       "      <td>-1213.000000</td>\n",
       "      <td>...</td>\n",
       "      <td>0.000000</td>\n",
       "      <td>0.000000</td>\n",
       "      <td>-757.000000</td>\n",
       "      <td>1.000000</td>\n",
       "      <td>0.000000</td>\n",
       "      <td>0.000000</td>\n",
       "      <td>0.000000</td>\n",
       "      <td>0.000000</td>\n",
       "      <td>0.000000</td>\n",
       "      <td>1.000000</td>\n",
       "    </tr>\n",
       "    <tr>\n",
       "      <th>75%</th>\n",
       "      <td>367142.500000</td>\n",
       "      <td>0.000000</td>\n",
       "      <td>1.000000</td>\n",
       "      <td>2.025000e+05</td>\n",
       "      <td>8.086500e+05</td>\n",
       "      <td>34596.000000</td>\n",
       "      <td>6.795000e+05</td>\n",
       "      <td>0.028663</td>\n",
       "      <td>-12413.000000</td>\n",
       "      <td>-289.000000</td>\n",
       "      <td>...</td>\n",
       "      <td>2.000000</td>\n",
       "      <td>0.000000</td>\n",
       "      <td>-274.000000</td>\n",
       "      <td>1.000000</td>\n",
       "      <td>0.000000</td>\n",
       "      <td>0.000000</td>\n",
       "      <td>0.000000</td>\n",
       "      <td>0.000000</td>\n",
       "      <td>0.000000</td>\n",
       "      <td>3.000000</td>\n",
       "    </tr>\n",
       "    <tr>\n",
       "      <th>max</th>\n",
       "      <td>456255.000000</td>\n",
       "      <td>1.000000</td>\n",
       "      <td>19.000000</td>\n",
       "      <td>1.170000e+08</td>\n",
       "      <td>4.050000e+06</td>\n",
       "      <td>258025.500000</td>\n",
       "      <td>4.050000e+06</td>\n",
       "      <td>0.072508</td>\n",
       "      <td>-7489.000000</td>\n",
       "      <td>365243.000000</td>\n",
       "      <td>...</td>\n",
       "      <td>344.000000</td>\n",
       "      <td>24.000000</td>\n",
       "      <td>0.000000</td>\n",
       "      <td>1.000000</td>\n",
       "      <td>4.000000</td>\n",
       "      <td>9.000000</td>\n",
       "      <td>8.000000</td>\n",
       "      <td>27.000000</td>\n",
       "      <td>261.000000</td>\n",
       "      <td>25.000000</td>\n",
       "    </tr>\n",
       "  </tbody>\n",
       "</table>\n",
       "<p>8 rows × 35 columns</p>\n",
       "</div>"
      ],
      "text/plain": [
       "          SK_ID_CURR         TARGET   CNT_CHILDREN  AMT_INCOME_TOTAL  \\\n",
       "count  307511.000000  307511.000000  307511.000000      3.075110e+05   \n",
       "mean   278180.518577       0.080729       0.417052      1.687979e+05   \n",
       "std    102790.175348       0.272419       0.722121      2.371231e+05   \n",
       "min    100002.000000       0.000000       0.000000      2.565000e+04   \n",
       "25%    189145.500000       0.000000       0.000000      1.125000e+05   \n",
       "50%    278202.000000       0.000000       0.000000      1.471500e+05   \n",
       "75%    367142.500000       0.000000       1.000000      2.025000e+05   \n",
       "max    456255.000000       1.000000      19.000000      1.170000e+08   \n",
       "\n",
       "         AMT_CREDIT    AMT_ANNUITY  AMT_GOODS_PRICE  \\\n",
       "count  3.075110e+05  307499.000000     3.072330e+05   \n",
       "mean   5.990260e+05   27108.573909     5.383962e+05   \n",
       "std    4.024908e+05   14493.737315     3.694465e+05   \n",
       "min    4.500000e+04    1615.500000     4.050000e+04   \n",
       "25%    2.700000e+05   16524.000000     2.385000e+05   \n",
       "50%    5.135310e+05   24903.000000     4.500000e+05   \n",
       "75%    8.086500e+05   34596.000000     6.795000e+05   \n",
       "max    4.050000e+06  258025.500000     4.050000e+06   \n",
       "\n",
       "       REGION_POPULATION_RELATIVE     DAYS_BIRTH  DAYS_EMPLOYED  ...  \\\n",
       "count               307511.000000  307511.000000  307511.000000  ...   \n",
       "mean                     0.020868  -16036.995067   63815.045904  ...   \n",
       "std                      0.013831    4363.988632  141275.766519  ...   \n",
       "min                      0.000290  -25229.000000  -17912.000000  ...   \n",
       "25%                      0.010006  -19682.000000   -2760.000000  ...   \n",
       "50%                      0.018850  -15750.000000   -1213.000000  ...   \n",
       "75%                      0.028663  -12413.000000    -289.000000  ...   \n",
       "max                      0.072508   -7489.000000  365243.000000  ...   \n",
       "\n",
       "       OBS_60_CNT_SOCIAL_CIRCLE  DEF_60_CNT_SOCIAL_CIRCLE  \\\n",
       "count             306490.000000             306490.000000   \n",
       "mean                   1.405292                  0.100049   \n",
       "std                    2.379803                  0.362291   \n",
       "min                    0.000000                  0.000000   \n",
       "25%                    0.000000                  0.000000   \n",
       "50%                    0.000000                  0.000000   \n",
       "75%                    2.000000                  0.000000   \n",
       "max                  344.000000                 24.000000   \n",
       "\n",
       "       DAYS_LAST_PHONE_CHANGE  FLAG_DOCUMENT_3  AMT_REQ_CREDIT_BUREAU_HOUR  \\\n",
       "count           307510.000000    307511.000000               307511.000000   \n",
       "mean              -962.858788         0.710023                    0.005538   \n",
       "std                826.808487         0.453752                    0.078014   \n",
       "min              -4292.000000         0.000000                    0.000000   \n",
       "25%              -1570.000000         0.000000                    0.000000   \n",
       "50%               -757.000000         1.000000                    0.000000   \n",
       "75%               -274.000000         1.000000                    0.000000   \n",
       "max                  0.000000         1.000000                    4.000000   \n",
       "\n",
       "       AMT_REQ_CREDIT_BUREAU_DAY  AMT_REQ_CREDIT_BUREAU_WEEK  \\\n",
       "count              307511.000000               307511.000000   \n",
       "mean                    0.006055                    0.029723   \n",
       "std                     0.103037                    0.190728   \n",
       "min                     0.000000                    0.000000   \n",
       "25%                     0.000000                    0.000000   \n",
       "50%                     0.000000                    0.000000   \n",
       "75%                     0.000000                    0.000000   \n",
       "max                     9.000000                    8.000000   \n",
       "\n",
       "       AMT_REQ_CREDIT_BUREAU_MON  AMT_REQ_CREDIT_BUREAU_QRT  \\\n",
       "count              307511.000000              307511.000000   \n",
       "mean                    0.231293                   0.229631   \n",
       "std                     0.856810                   0.744059   \n",
       "min                     0.000000                   0.000000   \n",
       "25%                     0.000000                   0.000000   \n",
       "50%                     0.000000                   0.000000   \n",
       "75%                     0.000000                   0.000000   \n",
       "max                    27.000000                 261.000000   \n",
       "\n",
       "       AMT_REQ_CREDIT_BUREAU_YEAR  \n",
       "count               307511.000000  \n",
       "mean                     1.778463  \n",
       "std                      1.765523  \n",
       "min                      0.000000  \n",
       "25%                      1.000000  \n",
       "50%                      1.000000  \n",
       "75%                      3.000000  \n",
       "max                     25.000000  \n",
       "\n",
       "[8 rows x 35 columns]"
      ]
     },
     "execution_count": 56,
     "metadata": {},
     "output_type": "execute_result"
    }
   ],
   "source": [
    "application_data.describe()"
   ]
  },
  {
   "attachments": {},
   "cell_type": "markdown",
   "metadata": {},
   "source": [
    "**Insights:**\n",
    "* **Following columns have very high values**\n",
    "    - AMT_INCOME_TOTAL\n",
    "    - AMT_CREDIT\n",
    "    - AMT_GOODS_PRICE\n",
    "\n",
    "Thus will make these numerical columns in categorical columns for better understanding.\n",
    "\n",
    "* **Following columns have negative values:**\n",
    "    - DAYS_BIRTH, DAYS_EMPLOYED, \n",
    "    - DAYS_REGISTRATION, \n",
    "    - DAYS_ID_PUBLISH, \n",
    "    - DAYS_LAST_PHONE_CHANGE \n",
    "Thus will correct them\n",
    "\n",
    "* **convert DAYS_BIRTH to AGE in years**\n",
    "* **DAYS_EMPLOYED to YEARS EMPLOYED**"
   ]
  },
  {
   "attachments": {},
   "cell_type": "markdown",
   "metadata": {},
   "source": [
    "### Binning Numerical Columns AMT_INCOME_TOTAL, AMT_CREDIT, AMT_GOODS_PRICE to categorical column "
   ]
  },
  {
   "cell_type": "code",
   "execution_count": null,
   "metadata": {},
   "outputs": [],
   "source": [
    "# Creating bins for income amount in term of Lakhs\n",
    "application_data['AMT_INCOME_TOTAL']=application_data['AMT_INCOME_TOTAL']/100000\n",
    "\n",
    "bins = [0,1,2,3,4,5,6,7,8,9,10,11]\n",
    "slot = ['0-1L','1L-2L', '2L-3L','3L-4L','4L-5L','5L-6L','6L-7L','7L-8L','8L-9L','9L-10L','10L Above']\n",
    "\n",
    "application_data['AMT_INCOME_RANGE']=pd.cut(application_data['AMT_INCOME_TOTAL'],\n",
    "                                            bins,\n",
    "                                            labels=slot)"
   ]
  },
  {
   "cell_type": "code",
   "execution_count": null,
   "metadata": {},
   "outputs": [
    {
     "data": {
      "text/plain": [
       "1L-2L        50.73\n",
       "2L-3L        21.21\n",
       "0-1L         20.73\n",
       "3L-4L         4.78\n",
       "4L-5L         1.74\n",
       "5L-6L         0.36\n",
       "6L-7L         0.28\n",
       "8L-9L         0.10\n",
       "7L-8L         0.05\n",
       "9L-10L        0.01\n",
       "10L Above     0.01\n",
       "Name: AMT_INCOME_RANGE, dtype: float64"
      ]
     },
     "execution_count": 58,
     "metadata": {},
     "output_type": "execute_result"
    }
   ],
   "source": [
    "round((application_data[\"AMT_INCOME_RANGE\"].value_counts(normalize = True)*100),2)"
   ]
  },
  {
   "cell_type": "code",
   "execution_count": null,
   "metadata": {},
   "outputs": [],
   "source": [
    "# Creating bins for Credit amount in term of Lakhs\n",
    "application_data['AMT_CREDIT']=application_data['AMT_CREDIT']/100000\n",
    "\n",
    "bins = [0,1,2,3,4,5,6,7,8,9,10,100]\n",
    "slots = ['0-1L','1L-2L', '2L-3L','3L-4L','4L-5L','5L-6L','6L-7L','7L-8L','8L-9L','9L-10L','10L Above']\n",
    "\n",
    "application_data['AMT_CREDIT_RANGE']=pd.cut(application_data['AMT_CREDIT'],\n",
    "                                            bins=bins,\n",
    "                                            labels=slots)"
   ]
  },
  {
   "cell_type": "code",
   "execution_count": null,
   "metadata": {},
   "outputs": [
    {
     "data": {
      "text/plain": [
       "2L-3L        17.82\n",
       "10L Above    16.25\n",
       "5L-6L        11.13\n",
       "4L-5L        10.42\n",
       "1L-2L         9.80\n",
       "3L-4L         8.56\n",
       "6L-7L         7.82\n",
       "8L-9L         7.09\n",
       "7L-8L         6.24\n",
       "9L-10L        2.90\n",
       "0-1L          1.95\n",
       "Name: AMT_CREDIT_RANGE, dtype: float64"
      ]
     },
     "execution_count": 60,
     "metadata": {},
     "output_type": "execute_result"
    }
   ],
   "source": [
    "round((application_data[\"AMT_CREDIT_RANGE\"].value_counts(normalize = True)*100),2)"
   ]
  },
  {
   "cell_type": "code",
   "execution_count": null,
   "metadata": {},
   "outputs": [],
   "source": [
    "# Creating bins for Price of Goods in term of Lakhs\n",
    "application_data['AMT_GOODS_PRICE']=application_data['AMT_GOODS_PRICE']/100000\n",
    "\n",
    "bins = [0,1,2,3,4,5,6,7,8,9,10,100]\n",
    "slots = ['0-1L','1L-2L', '2L-3L','3L-4L','4L-5L','5L-6L','6L-7L','7L-8L','8L-9L','9L-10L','10L Above']\n",
    "\n",
    "application_data['AMT_GOODS_PRICE_RANGE']=pd.cut(application_data['AMT_GOODS_PRICE'],\n",
    "                                                 bins=bins,\n",
    "                                                 labels=slots)"
   ]
  },
  {
   "cell_type": "code",
   "execution_count": null,
   "metadata": {},
   "outputs": [
    {
     "data": {
      "text/plain": [
       "2L-3L        20.43\n",
       "4L-5L        18.54\n",
       "6L-7L        13.03\n",
       "10L Above    11.11\n",
       "1L-2L        10.73\n",
       "8L-9L         6.99\n",
       "3L-4L         6.91\n",
       "5L-6L         4.27\n",
       "0-1L          2.83\n",
       "7L-8L         2.64\n",
       "9L-10L        2.53\n",
       "Name: AMT_GOODS_PRICE_RANGE, dtype: float64"
      ]
     },
     "execution_count": 62,
     "metadata": {},
     "output_type": "execute_result"
    }
   ],
   "source": [
    "round((application_data[\"AMT_GOODS_PRICE_RANGE\"].value_counts(normalize = True)*100),2)"
   ]
  },
  {
   "attachments": {},
   "cell_type": "markdown",
   "metadata": {},
   "source": [
    "**DAYS_BIRTH, DAYS_EMPLOYED, DAYS_REGISTRATION, DAYS_ID_PUBLISH, DAYS_LAST_PHONE_CHANGE**"
   ]
  },
  {
   "cell_type": "code",
   "execution_count": null,
   "metadata": {},
   "outputs": [],
   "source": [
    "days_column = [\"DAYS_BIRTH\", \n",
    "               \"DAYS_EMPLOYED\", \n",
    "               \"DAYS_REGISTRATION\", \n",
    "               \"DAYS_ID_PUBLISH\", \n",
    "               \"DAYS_LAST_PHONE_CHANGE\"]\n"
   ]
  },
  {
   "cell_type": "code",
   "execution_count": null,
   "metadata": {},
   "outputs": [],
   "source": [
    "#using abs() function to correct the days values\n",
    "\n",
    "application_data[days_column]= abs(application_data[days_column])"
   ]
  },
  {
   "cell_type": "code",
   "execution_count": null,
   "metadata": {},
   "outputs": [
    {
     "data": {
      "text/html": [
       "<div>\n",
       "<style scoped>\n",
       "    .dataframe tbody tr th:only-of-type {\n",
       "        vertical-align: middle;\n",
       "    }\n",
       "\n",
       "    .dataframe tbody tr th {\n",
       "        vertical-align: top;\n",
       "    }\n",
       "\n",
       "    .dataframe thead th {\n",
       "        text-align: right;\n",
       "    }\n",
       "</style>\n",
       "<table border=\"1\" class=\"dataframe\">\n",
       "  <thead>\n",
       "    <tr style=\"text-align: right;\">\n",
       "      <th></th>\n",
       "      <th>DAYS_BIRTH</th>\n",
       "      <th>DAYS_EMPLOYED</th>\n",
       "      <th>DAYS_REGISTRATION</th>\n",
       "      <th>DAYS_ID_PUBLISH</th>\n",
       "      <th>DAYS_LAST_PHONE_CHANGE</th>\n",
       "    </tr>\n",
       "  </thead>\n",
       "  <tbody>\n",
       "    <tr>\n",
       "      <th>count</th>\n",
       "      <td>307511.000000</td>\n",
       "      <td>307511.000000</td>\n",
       "      <td>307511.000000</td>\n",
       "      <td>307511.000000</td>\n",
       "      <td>307510.000000</td>\n",
       "    </tr>\n",
       "    <tr>\n",
       "      <th>mean</th>\n",
       "      <td>16036.995067</td>\n",
       "      <td>67724.742149</td>\n",
       "      <td>4986.120328</td>\n",
       "      <td>2994.202373</td>\n",
       "      <td>962.858788</td>\n",
       "    </tr>\n",
       "    <tr>\n",
       "      <th>std</th>\n",
       "      <td>4363.988632</td>\n",
       "      <td>139443.751806</td>\n",
       "      <td>3522.886321</td>\n",
       "      <td>1509.450419</td>\n",
       "      <td>826.808487</td>\n",
       "    </tr>\n",
       "    <tr>\n",
       "      <th>min</th>\n",
       "      <td>7489.000000</td>\n",
       "      <td>0.000000</td>\n",
       "      <td>0.000000</td>\n",
       "      <td>0.000000</td>\n",
       "      <td>0.000000</td>\n",
       "    </tr>\n",
       "    <tr>\n",
       "      <th>25%</th>\n",
       "      <td>12413.000000</td>\n",
       "      <td>933.000000</td>\n",
       "      <td>2010.000000</td>\n",
       "      <td>1720.000000</td>\n",
       "      <td>274.000000</td>\n",
       "    </tr>\n",
       "    <tr>\n",
       "      <th>50%</th>\n",
       "      <td>15750.000000</td>\n",
       "      <td>2219.000000</td>\n",
       "      <td>4504.000000</td>\n",
       "      <td>3254.000000</td>\n",
       "      <td>757.000000</td>\n",
       "    </tr>\n",
       "    <tr>\n",
       "      <th>75%</th>\n",
       "      <td>19682.000000</td>\n",
       "      <td>5707.000000</td>\n",
       "      <td>7479.500000</td>\n",
       "      <td>4299.000000</td>\n",
       "      <td>1570.000000</td>\n",
       "    </tr>\n",
       "    <tr>\n",
       "      <th>max</th>\n",
       "      <td>25229.000000</td>\n",
       "      <td>365243.000000</td>\n",
       "      <td>24672.000000</td>\n",
       "      <td>7197.000000</td>\n",
       "      <td>4292.000000</td>\n",
       "    </tr>\n",
       "  </tbody>\n",
       "</table>\n",
       "</div>"
      ],
      "text/plain": [
       "          DAYS_BIRTH  DAYS_EMPLOYED  DAYS_REGISTRATION  DAYS_ID_PUBLISH  \\\n",
       "count  307511.000000  307511.000000      307511.000000    307511.000000   \n",
       "mean    16036.995067   67724.742149        4986.120328      2994.202373   \n",
       "std      4363.988632  139443.751806        3522.886321      1509.450419   \n",
       "min      7489.000000       0.000000           0.000000         0.000000   \n",
       "25%     12413.000000     933.000000        2010.000000      1720.000000   \n",
       "50%     15750.000000    2219.000000        4504.000000      3254.000000   \n",
       "75%     19682.000000    5707.000000        7479.500000      4299.000000   \n",
       "max     25229.000000  365243.000000       24672.000000      7197.000000   \n",
       "\n",
       "       DAYS_LAST_PHONE_CHANGE  \n",
       "count           307510.000000  \n",
       "mean               962.858788  \n",
       "std                826.808487  \n",
       "min                  0.000000  \n",
       "25%                274.000000  \n",
       "50%                757.000000  \n",
       "75%               1570.000000  \n",
       "max               4292.000000  "
      ]
     },
     "execution_count": 66,
     "metadata": {},
     "output_type": "execute_result"
    }
   ],
   "source": [
    "application_data[days_column].describe()"
   ]
  },
  {
   "attachments": {},
   "cell_type": "markdown",
   "metadata": {},
   "source": [
    "### Converting DAYS_BIRTH, DAYS_EMPLOYED columns in terms of Years and binning years for better understanding, that is adding two more categorical column"
   ]
  },
  {
   "cell_type": "code",
   "execution_count": null,
   "metadata": {},
   "outputs": [],
   "source": [
    "application_data[\"AGE\"] = application_data[\"DAYS_BIRTH\"]/365\n",
    "bins = [0,20,25,30,35,40,45,50,55,60,100]\n",
    "slots = [\"0-20\",\"20-25\",\"25-30\",\"30-35\",\"35-40\",\"40-45\",\"45-50\",\"50-55\",\"55-60\",\"60 Above\"]\n",
    "\n",
    "application_data[\"AGE_GROUP\"] = pd.cut(application_data[\"AGE\"], \n",
    "                                       bins=bins, \n",
    "                                       labels=slots)"
   ]
  },
  {
   "cell_type": "code",
   "execution_count": null,
   "metadata": {},
   "outputs": [
    {
     "data": {
      "text/plain": [
       "35-40       13.940314\n",
       "40-45       13.464884\n",
       "30-35       12.825557\n",
       "60 Above    11.569993\n",
       "45-50       11.425608\n",
       "50-55       11.362846\n",
       "55-60       10.770346\n",
       "25-30       10.686447\n",
       "20-25        3.954005\n",
       "0-20         0.000000\n",
       "Name: AGE_GROUP, dtype: float64"
      ]
     },
     "execution_count": 69,
     "metadata": {},
     "output_type": "execute_result"
    }
   ],
   "source": [
    "application_data[\"AGE_GROUP\"].value_counts(normalize= True)*100"
   ]
  },
  {
   "cell_type": "code",
   "execution_count": null,
   "metadata": {},
   "outputs": [],
   "source": [
    "#creating column \"EMPLOYEMENT_YEARS\" from \"DAYS_EMPLOYED\"\n",
    "\n",
    "application_data[\"YEARS_EMPLOYED\"] = application_data[\"DAYS_EMPLOYED\"]/365\n",
    "bins = [0,5,10,15,20,25,30,50]\n",
    "slots = [\"0-5\",\"5-10\",\"10-15\",\"15-20\",\"20-25\",\"25-30\",\"30 Above\"]\n",
    "\n",
    "application_data[\"EMPLOYEMENT_YEARS\"] = pd.cut(application_data[\"YEARS_EMPLOYED\"], \n",
    "                                               bins=bins, \n",
    "                                               labels=slots)"
   ]
  },
  {
   "cell_type": "code",
   "execution_count": null,
   "metadata": {},
   "outputs": [
    {
     "data": {
      "text/plain": [
       "0-5         54.061911\n",
       "5-10        25.729074\n",
       "10-15       10.926289\n",
       "15-20        4.302854\n",
       "20-25        2.476054\n",
       "25-30        1.311996\n",
       "30 Above     1.191822\n",
       "Name: EMPLOYEMENT_YEARS, dtype: float64"
      ]
     },
     "execution_count": 71,
     "metadata": {},
     "output_type": "execute_result"
    }
   ],
   "source": [
    "application_data[\"EMPLOYEMENT_YEARS\"].value_counts(normalize= True)*100"
   ]
  },
  {
   "attachments": {},
   "cell_type": "markdown",
   "metadata": {},
   "source": [
    "## Outliers investigation"
   ]
  },
  {
   "cell_type": "code",
   "execution_count": null,
   "metadata": {},
   "outputs": [
    {
     "data": {
      "text/html": [
       "<div>\n",
       "<style scoped>\n",
       "    .dataframe tbody tr th:only-of-type {\n",
       "        vertical-align: middle;\n",
       "    }\n",
       "\n",
       "    .dataframe tbody tr th {\n",
       "        vertical-align: top;\n",
       "    }\n",
       "\n",
       "    .dataframe thead th {\n",
       "        text-align: right;\n",
       "    }\n",
       "</style>\n",
       "<table border=\"1\" class=\"dataframe\">\n",
       "  <thead>\n",
       "    <tr style=\"text-align: right;\">\n",
       "      <th></th>\n",
       "      <th>SK_ID_CURR</th>\n",
       "      <th>TARGET</th>\n",
       "      <th>CNT_CHILDREN</th>\n",
       "      <th>AMT_INCOME_TOTAL</th>\n",
       "      <th>AMT_CREDIT</th>\n",
       "      <th>AMT_ANNUITY</th>\n",
       "      <th>AMT_GOODS_PRICE</th>\n",
       "      <th>REGION_POPULATION_RELATIVE</th>\n",
       "      <th>DAYS_BIRTH</th>\n",
       "      <th>DAYS_EMPLOYED</th>\n",
       "      <th>...</th>\n",
       "      <th>DAYS_LAST_PHONE_CHANGE</th>\n",
       "      <th>FLAG_DOCUMENT_3</th>\n",
       "      <th>AMT_REQ_CREDIT_BUREAU_HOUR</th>\n",
       "      <th>AMT_REQ_CREDIT_BUREAU_DAY</th>\n",
       "      <th>AMT_REQ_CREDIT_BUREAU_WEEK</th>\n",
       "      <th>AMT_REQ_CREDIT_BUREAU_MON</th>\n",
       "      <th>AMT_REQ_CREDIT_BUREAU_QRT</th>\n",
       "      <th>AMT_REQ_CREDIT_BUREAU_YEAR</th>\n",
       "      <th>AGE</th>\n",
       "      <th>YEARS_EMPLOYED</th>\n",
       "    </tr>\n",
       "  </thead>\n",
       "  <tbody>\n",
       "    <tr>\n",
       "      <th>count</th>\n",
       "      <td>307511.000000</td>\n",
       "      <td>307511.000000</td>\n",
       "      <td>307511.000000</td>\n",
       "      <td>307511.000000</td>\n",
       "      <td>307511.000000</td>\n",
       "      <td>307499.000000</td>\n",
       "      <td>307233.000000</td>\n",
       "      <td>307511.000000</td>\n",
       "      <td>307511.000000</td>\n",
       "      <td>307511.000000</td>\n",
       "      <td>...</td>\n",
       "      <td>307510.000000</td>\n",
       "      <td>307511.000000</td>\n",
       "      <td>307511.000000</td>\n",
       "      <td>307511.000000</td>\n",
       "      <td>307511.000000</td>\n",
       "      <td>307511.000000</td>\n",
       "      <td>307511.000000</td>\n",
       "      <td>307511.000000</td>\n",
       "      <td>307511.000000</td>\n",
       "      <td>307511.000000</td>\n",
       "    </tr>\n",
       "    <tr>\n",
       "      <th>mean</th>\n",
       "      <td>278180.518577</td>\n",
       "      <td>0.080729</td>\n",
       "      <td>0.417052</td>\n",
       "      <td>1.687979</td>\n",
       "      <td>5.990260</td>\n",
       "      <td>27108.573909</td>\n",
       "      <td>5.383962</td>\n",
       "      <td>0.020868</td>\n",
       "      <td>16036.995067</td>\n",
       "      <td>67724.742149</td>\n",
       "      <td>...</td>\n",
       "      <td>962.858788</td>\n",
       "      <td>0.710023</td>\n",
       "      <td>0.005538</td>\n",
       "      <td>0.006055</td>\n",
       "      <td>0.029723</td>\n",
       "      <td>0.231293</td>\n",
       "      <td>0.229631</td>\n",
       "      <td>1.778463</td>\n",
       "      <td>43.936973</td>\n",
       "      <td>185.547239</td>\n",
       "    </tr>\n",
       "    <tr>\n",
       "      <th>std</th>\n",
       "      <td>102790.175348</td>\n",
       "      <td>0.272419</td>\n",
       "      <td>0.722121</td>\n",
       "      <td>2.371231</td>\n",
       "      <td>4.024908</td>\n",
       "      <td>14493.737315</td>\n",
       "      <td>3.694465</td>\n",
       "      <td>0.013831</td>\n",
       "      <td>4363.988632</td>\n",
       "      <td>139443.751806</td>\n",
       "      <td>...</td>\n",
       "      <td>826.808487</td>\n",
       "      <td>0.453752</td>\n",
       "      <td>0.078014</td>\n",
       "      <td>0.103037</td>\n",
       "      <td>0.190728</td>\n",
       "      <td>0.856810</td>\n",
       "      <td>0.744059</td>\n",
       "      <td>1.765523</td>\n",
       "      <td>11.956133</td>\n",
       "      <td>382.037676</td>\n",
       "    </tr>\n",
       "    <tr>\n",
       "      <th>min</th>\n",
       "      <td>100002.000000</td>\n",
       "      <td>0.000000</td>\n",
       "      <td>0.000000</td>\n",
       "      <td>0.256500</td>\n",
       "      <td>0.450000</td>\n",
       "      <td>1615.500000</td>\n",
       "      <td>0.405000</td>\n",
       "      <td>0.000290</td>\n",
       "      <td>7489.000000</td>\n",
       "      <td>0.000000</td>\n",
       "      <td>...</td>\n",
       "      <td>0.000000</td>\n",
       "      <td>0.000000</td>\n",
       "      <td>0.000000</td>\n",
       "      <td>0.000000</td>\n",
       "      <td>0.000000</td>\n",
       "      <td>0.000000</td>\n",
       "      <td>0.000000</td>\n",
       "      <td>0.000000</td>\n",
       "      <td>20.517808</td>\n",
       "      <td>0.000000</td>\n",
       "    </tr>\n",
       "    <tr>\n",
       "      <th>25%</th>\n",
       "      <td>189145.500000</td>\n",
       "      <td>0.000000</td>\n",
       "      <td>0.000000</td>\n",
       "      <td>1.125000</td>\n",
       "      <td>2.700000</td>\n",
       "      <td>16524.000000</td>\n",
       "      <td>2.385000</td>\n",
       "      <td>0.010006</td>\n",
       "      <td>12413.000000</td>\n",
       "      <td>933.000000</td>\n",
       "      <td>...</td>\n",
       "      <td>274.000000</td>\n",
       "      <td>0.000000</td>\n",
       "      <td>0.000000</td>\n",
       "      <td>0.000000</td>\n",
       "      <td>0.000000</td>\n",
       "      <td>0.000000</td>\n",
       "      <td>0.000000</td>\n",
       "      <td>1.000000</td>\n",
       "      <td>34.008219</td>\n",
       "      <td>2.556164</td>\n",
       "    </tr>\n",
       "    <tr>\n",
       "      <th>50%</th>\n",
       "      <td>278202.000000</td>\n",
       "      <td>0.000000</td>\n",
       "      <td>0.000000</td>\n",
       "      <td>1.471500</td>\n",
       "      <td>5.135310</td>\n",
       "      <td>24903.000000</td>\n",
       "      <td>4.500000</td>\n",
       "      <td>0.018850</td>\n",
       "      <td>15750.000000</td>\n",
       "      <td>2219.000000</td>\n",
       "      <td>...</td>\n",
       "      <td>757.000000</td>\n",
       "      <td>1.000000</td>\n",
       "      <td>0.000000</td>\n",
       "      <td>0.000000</td>\n",
       "      <td>0.000000</td>\n",
       "      <td>0.000000</td>\n",
       "      <td>0.000000</td>\n",
       "      <td>1.000000</td>\n",
       "      <td>43.150685</td>\n",
       "      <td>6.079452</td>\n",
       "    </tr>\n",
       "    <tr>\n",
       "      <th>75%</th>\n",
       "      <td>367142.500000</td>\n",
       "      <td>0.000000</td>\n",
       "      <td>1.000000</td>\n",
       "      <td>2.025000</td>\n",
       "      <td>8.086500</td>\n",
       "      <td>34596.000000</td>\n",
       "      <td>6.795000</td>\n",
       "      <td>0.028663</td>\n",
       "      <td>19682.000000</td>\n",
       "      <td>5707.000000</td>\n",
       "      <td>...</td>\n",
       "      <td>1570.000000</td>\n",
       "      <td>1.000000</td>\n",
       "      <td>0.000000</td>\n",
       "      <td>0.000000</td>\n",
       "      <td>0.000000</td>\n",
       "      <td>0.000000</td>\n",
       "      <td>0.000000</td>\n",
       "      <td>3.000000</td>\n",
       "      <td>53.923288</td>\n",
       "      <td>15.635616</td>\n",
       "    </tr>\n",
       "    <tr>\n",
       "      <th>max</th>\n",
       "      <td>456255.000000</td>\n",
       "      <td>1.000000</td>\n",
       "      <td>19.000000</td>\n",
       "      <td>1170.000000</td>\n",
       "      <td>40.500000</td>\n",
       "      <td>258025.500000</td>\n",
       "      <td>40.500000</td>\n",
       "      <td>0.072508</td>\n",
       "      <td>25229.000000</td>\n",
       "      <td>365243.000000</td>\n",
       "      <td>...</td>\n",
       "      <td>4292.000000</td>\n",
       "      <td>1.000000</td>\n",
       "      <td>4.000000</td>\n",
       "      <td>9.000000</td>\n",
       "      <td>8.000000</td>\n",
       "      <td>27.000000</td>\n",
       "      <td>261.000000</td>\n",
       "      <td>25.000000</td>\n",
       "      <td>69.120548</td>\n",
       "      <td>1000.665753</td>\n",
       "    </tr>\n",
       "  </tbody>\n",
       "</table>\n",
       "<p>8 rows × 37 columns</p>\n",
       "</div>"
      ],
      "text/plain": [
       "          SK_ID_CURR         TARGET   CNT_CHILDREN  AMT_INCOME_TOTAL  \\\n",
       "count  307511.000000  307511.000000  307511.000000     307511.000000   \n",
       "mean   278180.518577       0.080729       0.417052          1.687979   \n",
       "std    102790.175348       0.272419       0.722121          2.371231   \n",
       "min    100002.000000       0.000000       0.000000          0.256500   \n",
       "25%    189145.500000       0.000000       0.000000          1.125000   \n",
       "50%    278202.000000       0.000000       0.000000          1.471500   \n",
       "75%    367142.500000       0.000000       1.000000          2.025000   \n",
       "max    456255.000000       1.000000      19.000000       1170.000000   \n",
       "\n",
       "          AMT_CREDIT    AMT_ANNUITY  AMT_GOODS_PRICE  \\\n",
       "count  307511.000000  307499.000000    307233.000000   \n",
       "mean        5.990260   27108.573909         5.383962   \n",
       "std         4.024908   14493.737315         3.694465   \n",
       "min         0.450000    1615.500000         0.405000   \n",
       "25%         2.700000   16524.000000         2.385000   \n",
       "50%         5.135310   24903.000000         4.500000   \n",
       "75%         8.086500   34596.000000         6.795000   \n",
       "max        40.500000  258025.500000        40.500000   \n",
       "\n",
       "       REGION_POPULATION_RELATIVE     DAYS_BIRTH  DAYS_EMPLOYED  ...  \\\n",
       "count               307511.000000  307511.000000  307511.000000  ...   \n",
       "mean                     0.020868   16036.995067   67724.742149  ...   \n",
       "std                      0.013831    4363.988632  139443.751806  ...   \n",
       "min                      0.000290    7489.000000       0.000000  ...   \n",
       "25%                      0.010006   12413.000000     933.000000  ...   \n",
       "50%                      0.018850   15750.000000    2219.000000  ...   \n",
       "75%                      0.028663   19682.000000    5707.000000  ...   \n",
       "max                      0.072508   25229.000000  365243.000000  ...   \n",
       "\n",
       "       DAYS_LAST_PHONE_CHANGE  FLAG_DOCUMENT_3  AMT_REQ_CREDIT_BUREAU_HOUR  \\\n",
       "count           307510.000000    307511.000000               307511.000000   \n",
       "mean               962.858788         0.710023                    0.005538   \n",
       "std                826.808487         0.453752                    0.078014   \n",
       "min                  0.000000         0.000000                    0.000000   \n",
       "25%                274.000000         0.000000                    0.000000   \n",
       "50%                757.000000         1.000000                    0.000000   \n",
       "75%               1570.000000         1.000000                    0.000000   \n",
       "max               4292.000000         1.000000                    4.000000   \n",
       "\n",
       "       AMT_REQ_CREDIT_BUREAU_DAY  AMT_REQ_CREDIT_BUREAU_WEEK  \\\n",
       "count              307511.000000               307511.000000   \n",
       "mean                    0.006055                    0.029723   \n",
       "std                     0.103037                    0.190728   \n",
       "min                     0.000000                    0.000000   \n",
       "25%                     0.000000                    0.000000   \n",
       "50%                     0.000000                    0.000000   \n",
       "75%                     0.000000                    0.000000   \n",
       "max                     9.000000                    8.000000   \n",
       "\n",
       "       AMT_REQ_CREDIT_BUREAU_MON  AMT_REQ_CREDIT_BUREAU_QRT  \\\n",
       "count              307511.000000              307511.000000   \n",
       "mean                    0.231293                   0.229631   \n",
       "std                     0.856810                   0.744059   \n",
       "min                     0.000000                   0.000000   \n",
       "25%                     0.000000                   0.000000   \n",
       "50%                     0.000000                   0.000000   \n",
       "75%                     0.000000                   0.000000   \n",
       "max                    27.000000                 261.000000   \n",
       "\n",
       "       AMT_REQ_CREDIT_BUREAU_YEAR            AGE  YEARS_EMPLOYED  \n",
       "count               307511.000000  307511.000000   307511.000000  \n",
       "mean                     1.778463      43.936973      185.547239  \n",
       "std                      1.765523      11.956133      382.037676  \n",
       "min                      0.000000      20.517808        0.000000  \n",
       "25%                      1.000000      34.008219        2.556164  \n",
       "50%                      1.000000      43.150685        6.079452  \n",
       "75%                      3.000000      53.923288       15.635616  \n",
       "max                     25.000000      69.120548     1000.665753  \n",
       "\n",
       "[8 rows x 37 columns]"
      ]
     },
     "execution_count": 72,
     "metadata": {},
     "output_type": "execute_result"
    }
   ],
   "source": [
    "application_data.describe()"
   ]
  },
  {
   "cell_type": "markdown",
   "metadata": {},
   "source": [
    "* **from describe we could find all the columns those wo have high difference between max and 75 percentile and the ones which makes no sense having max value to be so high are captured below:**"
   ]
  },
  {
   "cell_type": "code",
   "execution_count": null,
   "metadata": {},
   "outputs": [],
   "source": [
    "outlier_columns = [\"CNT_CHILDREN\",\n",
    "                   \"AMT_INCOME_TOTAL\", \n",
    "                   \"AMT_CREDIT\", \n",
    "                   \"AMT_ANNUITY\", \n",
    "                   \"AMT_GOODS_PRICE\",\n",
    "                   \"DAYS_BIRTH\", \n",
    "                   \"DAYS_EMPLOYED\", \n",
    "                   \"DAYS_REGISTRATION\"]"
   ]
  },
  {
   "cell_type": "code",
   "execution_count": null,
   "metadata": {},
   "outputs": [
    {
     "name": "stderr",
     "output_type": "stream",
     "text": [
      "/Users/anurag/Desktop/Appinventiv/enve/lib/python3.7/site-packages/seaborn/_oldcore.py:1592: UserWarning: Horizontal orientation ignored with only `y` specified.\n",
      "  warnings.warn(single_var_warning.format(\"Horizontal\", \"y\"))\n",
      "/Users/anurag/Desktop/Appinventiv/enve/lib/python3.7/site-packages/seaborn/_oldcore.py:1592: UserWarning: Horizontal orientation ignored with only `y` specified.\n",
      "  warnings.warn(single_var_warning.format(\"Horizontal\", \"y\"))\n",
      "/Users/anurag/Desktop/Appinventiv/enve/lib/python3.7/site-packages/seaborn/_oldcore.py:1592: UserWarning: Horizontal orientation ignored with only `y` specified.\n",
      "  warnings.warn(single_var_warning.format(\"Horizontal\", \"y\"))\n",
      "/Users/anurag/Desktop/Appinventiv/enve/lib/python3.7/site-packages/seaborn/_oldcore.py:1592: UserWarning: Horizontal orientation ignored with only `y` specified.\n",
      "  warnings.warn(single_var_warning.format(\"Horizontal\", \"y\"))\n",
      "/Users/anurag/Desktop/Appinventiv/enve/lib/python3.7/site-packages/seaborn/_oldcore.py:1592: UserWarning: Horizontal orientation ignored with only `y` specified.\n",
      "  warnings.warn(single_var_warning.format(\"Horizontal\", \"y\"))\n",
      "/Users/anurag/Desktop/Appinventiv/enve/lib/python3.7/site-packages/seaborn/_oldcore.py:1592: UserWarning: Horizontal orientation ignored with only `y` specified.\n",
      "  warnings.warn(single_var_warning.format(\"Horizontal\", \"y\"))\n",
      "/Users/anurag/Desktop/Appinventiv/enve/lib/python3.7/site-packages/seaborn/_oldcore.py:1592: UserWarning: Horizontal orientation ignored with only `y` specified.\n",
      "  warnings.warn(single_var_warning.format(\"Horizontal\", \"y\"))\n",
      "/Users/anurag/Desktop/Appinventiv/enve/lib/python3.7/site-packages/seaborn/_oldcore.py:1592: UserWarning: Horizontal orientation ignored with only `y` specified.\n",
      "  warnings.warn(single_var_warning.format(\"Horizontal\", \"y\"))\n"
     ]
    },
    {
     "data": {
      "image/png": "[encoded data removed]",
      "text/plain": [
       "<Figure size 1500x2500 with 8 Axes>"
      ]
     },
     "metadata": {},
     "output_type": "display_data"
    }
   ],
   "source": [
    "plt.figure(figsize=[15,25])\n",
    "for i,j in itertools.zip_longest(outlier_columns, range(len(outlier_columns))):\n",
    "    plt.subplot(4,2,j+1)\n",
    "    sns.boxplot(y = application_data[i], \n",
    "                orient = \"h\", \n",
    "                color = \"blue\")\n",
    "    plt.yticks(fontsize=10)\n",
    "    plt.xlabel(\"\")\n",
    "    plt.ylabel(\"\")\n",
    "    plt.title(i)"
   ]
  },
  {
   "cell_type": "markdown",
   "metadata": {},
   "source": [
    "**Insight:**\n",
    "\n",
    "**It can be seen that in current application data**\n",
    "   * **AMT_ANNUITY, AMT_CREDIT, AMT_GOODS_PRICE,CNT_CHILDREN have some number of outliers.**\n",
    "   * **AMT_INCOME_TOTAL has huge number of outliers which indicate that few of the loan applicants have high income when compared to the others.**\n",
    "   * **DAYS_BIRTH has no outliers which means the data available is reliable.**\n",
    "   * **DAYS_EMPLOYED has outlier values around 350000(days) which is around 958 years which is impossible and hence this has to be incorrect entry.**"
   ]
  },
  {
   "cell_type": "code",
   "execution_count": null,
   "metadata": {},
   "outputs": [
    {
     "data": {
      "text/plain": [
       "LIVE_REGION_NOT_WORK_REGION         2\n",
       "TARGET                              2\n",
       "NAME_CONTRACT_TYPE                  2\n",
       "REG_REGION_NOT_LIVE_REGION          2\n",
       "FLAG_OWN_REALTY                     2\n",
       "LIVE_CITY_NOT_WORK_CITY             2\n",
       "REG_CITY_NOT_WORK_CITY              2\n",
       "REG_CITY_NOT_LIVE_CITY              2\n",
       "FLAG_DOCUMENT_3                     2\n",
       "REG_REGION_NOT_WORK_REGION          2\n",
       "FLAG_MOBIL                          2\n",
       "REGION_RATING_CLIENT                3\n",
       "CODE_GENDER                         3\n",
       "REGION_RATING_CLIENT_W_CITY         3\n",
       "NAME_EDUCATION_TYPE                 5\n",
       "AMT_REQ_CREDIT_BUREAU_HOUR          5\n",
       "NAME_FAMILY_STATUS                  6\n",
       "NAME_HOUSING_TYPE                   6\n",
       "EMPLOYEMENT_YEARS                   7\n",
       "WEEKDAY_APPR_PROCESS_START          7\n",
       "NAME_TYPE_SUITE                     7\n",
       "NAME_INCOME_TYPE                    8\n",
       "AMT_REQ_CREDIT_BUREAU_WEEK          9\n",
       "AMT_REQ_CREDIT_BUREAU_DAY           9\n",
       "DEF_60_CNT_SOCIAL_CIRCLE            9\n",
       "AGE_GROUP                           9\n",
       "DEF_30_CNT_SOCIAL_CIRCLE           10\n",
       "AMT_REQ_CREDIT_BUREAU_QRT          11\n",
       "AMT_INCOME_RANGE                   11\n",
       "AMT_CREDIT_RANGE                   11\n",
       "AMT_GOODS_PRICE_RANGE              11\n",
       "CNT_CHILDREN                       15\n",
       "CNT_FAM_MEMBERS                    17\n",
       "OCCUPATION_TYPE                    19\n",
       "AMT_REQ_CREDIT_BUREAU_MON          24\n",
       "HOUR_APPR_PROCESS_START            24\n",
       "AMT_REQ_CREDIT_BUREAU_YEAR         25\n",
       "OBS_60_CNT_SOCIAL_CIRCLE           33\n",
       "OBS_30_CNT_SOCIAL_CIRCLE           33\n",
       "ORGANIZATION_TYPE                  58\n",
       "REGION_POPULATION_RELATIVE         81\n",
       "AMT_GOODS_PRICE                  1002\n",
       "AMT_INCOME_TOTAL                 2548\n",
       "DAYS_LAST_PHONE_CHANGE           3773\n",
       "AMT_CREDIT                       5603\n",
       "DAYS_ID_PUBLISH                  6168\n",
       "DAYS_EMPLOYED                   12574\n",
       "YEARS_EMPLOYED                  12574\n",
       "AMT_ANNUITY                     13672\n",
       "DAYS_REGISTRATION               15688\n",
       "DAYS_BIRTH                      17460\n",
       "AGE                             17460\n",
       "SK_ID_CURR                     307511\n",
       "dtype: int64"
      ]
     },
     "execution_count": 77,
     "metadata": {},
     "output_type": "execute_result"
    }
   ],
   "source": [
    "application_data.nunique().sort_values()"
   ]
  },
  {
   "cell_type": "code",
   "execution_count": null,
   "metadata": {},
   "outputs": [
    {
     "name": "stdout",
     "output_type": "stream",
     "text": [
      "<class 'pandas.core.frame.DataFrame'>\n",
      "RangeIndex: 307511 entries, 0 to 307510\n",
      "Data columns (total 53 columns):\n",
      " #   Column                       Non-Null Count   Dtype   \n",
      "---  ------                       --------------   -----   \n",
      " 0   SK_ID_CURR                   307511 non-null  int64   \n",
      " 1   TARGET                       307511 non-null  int64   \n",
      " 2   NAME_CONTRACT_TYPE           307511 non-null  object  \n",
      " 3   CODE_GENDER                  307511 non-null  object  \n",
      " 4   FLAG_OWN_REALTY              307511 non-null  object  \n",
      " 5   CNT_CHILDREN                 307511 non-null  int64   \n",
      " 6   AMT_INCOME_TOTAL             307511 non-null  float64 \n",
      " 7   AMT_CREDIT                   307511 non-null  float64 \n",
      " 8   AMT_ANNUITY                  307499 non-null  float64 \n",
      " 9   AMT_GOODS_PRICE              307233 non-null  float64 \n",
      " 10  NAME_TYPE_SUITE              306219 non-null  object  \n",
      " 11  NAME_INCOME_TYPE             307511 non-null  object  \n",
      " 12  NAME_EDUCATION_TYPE          307511 non-null  object  \n",
      " 13  NAME_FAMILY_STATUS           307511 non-null  object  \n",
      " 14  NAME_HOUSING_TYPE            307511 non-null  object  \n",
      " 15  REGION_POPULATION_RELATIVE   307511 non-null  float64 \n",
      " 16  DAYS_BIRTH                   307511 non-null  float64 \n",
      " 17  DAYS_EMPLOYED                307511 non-null  float64 \n",
      " 18  DAYS_REGISTRATION            307511 non-null  float64 \n",
      " 19  DAYS_ID_PUBLISH              307511 non-null  float64 \n",
      " 20  FLAG_MOBIL                   307511 non-null  int64   \n",
      " 21  OCCUPATION_TYPE              307511 non-null  object  \n",
      " 22  CNT_FAM_MEMBERS              307509 non-null  float64 \n",
      " 23  REGION_RATING_CLIENT         307511 non-null  int64   \n",
      " 24  REGION_RATING_CLIENT_W_CITY  307511 non-null  int64   \n",
      " 25  WEEKDAY_APPR_PROCESS_START   307511 non-null  object  \n",
      " 26  HOUR_APPR_PROCESS_START      307511 non-null  int64   \n",
      " 27  REG_REGION_NOT_LIVE_REGION   307511 non-null  int64   \n",
      " 28  REG_REGION_NOT_WORK_REGION   307511 non-null  int64   \n",
      " 29  LIVE_REGION_NOT_WORK_REGION  307511 non-null  int64   \n",
      " 30  REG_CITY_NOT_LIVE_CITY       307511 non-null  int64   \n",
      " 31  REG_CITY_NOT_WORK_CITY       307511 non-null  int64   \n",
      " 32  LIVE_CITY_NOT_WORK_CITY      307511 non-null  int64   \n",
      " 33  ORGANIZATION_TYPE            307511 non-null  object  \n",
      " 34  OBS_30_CNT_SOCIAL_CIRCLE     306490 non-null  float64 \n",
      " 35  DEF_30_CNT_SOCIAL_CIRCLE     306490 non-null  float64 \n",
      " 36  OBS_60_CNT_SOCIAL_CIRCLE     306490 non-null  float64 \n",
      " 37  DEF_60_CNT_SOCIAL_CIRCLE     306490 non-null  float64 \n",
      " 38  DAYS_LAST_PHONE_CHANGE       307510 non-null  float64 \n",
      " 39  FLAG_DOCUMENT_3              307511 non-null  int64   \n",
      " 40  AMT_REQ_CREDIT_BUREAU_HOUR   307511 non-null  float64 \n",
      " 41  AMT_REQ_CREDIT_BUREAU_DAY    307511 non-null  float64 \n",
      " 42  AMT_REQ_CREDIT_BUREAU_WEEK   307511 non-null  float64 \n",
      " 43  AMT_REQ_CREDIT_BUREAU_MON    307511 non-null  float64 \n",
      " 44  AMT_REQ_CREDIT_BUREAU_QRT    307511 non-null  float64 \n",
      " 45  AMT_REQ_CREDIT_BUREAU_YEAR   307511 non-null  float64 \n",
      " 46  AMT_INCOME_RANGE             307279 non-null  category\n",
      " 47  AMT_CREDIT_RANGE             307511 non-null  category\n",
      " 48  AMT_GOODS_PRICE_RANGE        307233 non-null  category\n",
      " 49  AGE                          307511 non-null  float64 \n",
      " 50  AGE_GROUP                    307511 non-null  category\n",
      " 51  YEARS_EMPLOYED               307511 non-null  float64 \n",
      " 52  EMPLOYEMENT_YEARS            252135 non-null  category\n",
      "dtypes: category(5), float64(23), int64(14), object(11)\n",
      "memory usage: 114.1+ MB\n"
     ]
    }
   ],
   "source": [
    "#Checking the number of unique values each column possess to identify categorical columns\n",
    "\n",
    "application_data.info()\n"
   ]
  },
  {
   "cell_type": "markdown",
   "metadata": {},
   "source": [
    "## 6. Converting Desired columns from Object to categorical column"
   ]
  },
  {
   "cell_type": "code",
   "execution_count": null,
   "metadata": {},
   "outputs": [
    {
     "data": {
      "text/plain": [
       "Index(['SK_ID_CURR', 'TARGET', 'NAME_CONTRACT_TYPE', 'CODE_GENDER',\n",
       "       'FLAG_OWN_REALTY', 'CNT_CHILDREN', 'AMT_INCOME_TOTAL', 'AMT_CREDIT',\n",
       "       'AMT_ANNUITY', 'AMT_GOODS_PRICE', 'NAME_TYPE_SUITE', 'NAME_INCOME_TYPE',\n",
       "       'NAME_EDUCATION_TYPE', 'NAME_FAMILY_STATUS', 'NAME_HOUSING_TYPE',\n",
       "       'REGION_POPULATION_RELATIVE', 'DAYS_BIRTH', 'DAYS_EMPLOYED',\n",
       "       'DAYS_REGISTRATION', 'DAYS_ID_PUBLISH', 'FLAG_MOBIL', 'OCCUPATION_TYPE',\n",
       "       'CNT_FAM_MEMBERS', 'REGION_RATING_CLIENT',\n",
       "       'REGION_RATING_CLIENT_W_CITY', 'WEEKDAY_APPR_PROCESS_START',\n",
       "       'HOUR_APPR_PROCESS_START', 'REG_REGION_NOT_LIVE_REGION',\n",
       "       'REG_REGION_NOT_WORK_REGION', 'LIVE_REGION_NOT_WORK_REGION',\n",
       "       'REG_CITY_NOT_LIVE_CITY', 'REG_CITY_NOT_WORK_CITY',\n",
       "       'LIVE_CITY_NOT_WORK_CITY', 'ORGANIZATION_TYPE',\n",
       "       'OBS_30_CNT_SOCIAL_CIRCLE', 'DEF_30_CNT_SOCIAL_CIRCLE',\n",
       "       'OBS_60_CNT_SOCIAL_CIRCLE', 'DEF_60_CNT_SOCIAL_CIRCLE',\n",
       "       'DAYS_LAST_PHONE_CHANGE', 'FLAG_DOCUMENT_3',\n",
       "       'AMT_REQ_CREDIT_BUREAU_HOUR', 'AMT_REQ_CREDIT_BUREAU_DAY',\n",
       "       'AMT_REQ_CREDIT_BUREAU_WEEK', 'AMT_REQ_CREDIT_BUREAU_MON',\n",
       "       'AMT_REQ_CREDIT_BUREAU_QRT', 'AMT_REQ_CREDIT_BUREAU_YEAR',\n",
       "       'AMT_INCOME_RANGE', 'AMT_CREDIT_RANGE', 'AMT_GOODS_PRICE_RANGE', 'AGE',\n",
       "       'AGE_GROUP', 'YEARS_EMPLOYED', 'EMPLOYEMENT_YEARS'],\n",
       "      dtype='object')"
      ]
     },
     "execution_count": 79,
     "metadata": {},
     "output_type": "execute_result"
    }
   ],
   "source": [
    "application_data.columns"
   ]
  },
  {
   "cell_type": "code",
   "execution_count": null,
   "metadata": {},
   "outputs": [],
   "source": [
    "#from the list, we have taken out the desired columns for conversion\n",
    "\n",
    "categorical_columns = ['NAME_CONTRACT_TYPE','CODE_GENDER','NAME_TYPE_SUITE','NAME_INCOME_TYPE','NAME_EDUCATION_TYPE',\n",
    "                       'NAME_FAMILY_STATUS','NAME_HOUSING_TYPE','OCCUPATION_TYPE','WEEKDAY_APPR_PROCESS_START',\n",
    "                       'ORGANIZATION_TYPE','FLAG_OWN_REALTY','LIVE_CITY_NOT_WORK_CITY',\n",
    "                       'REG_CITY_NOT_LIVE_CITY','REG_CITY_NOT_WORK_CITY','REG_REGION_NOT_WORK_REGION',\n",
    "                       'LIVE_REGION_NOT_WORK_REGION','REGION_RATING_CLIENT','WEEKDAY_APPR_PROCESS_START',\n",
    "                       'REGION_RATING_CLIENT_W_CITY','CNT_CHILDREN','CNT_FAM_MEMBERS']\n",
    "\n",
    "for col in categorical_columns:\n",
    "    application_data[col] = pd.Categorical(application_data[col])\n"
   ]
  },
  {
   "cell_type": "code",
   "execution_count": null,
   "metadata": {},
   "outputs": [
    {
     "name": "stdout",
     "output_type": "stream",
     "text": [
      "<class 'pandas.core.frame.DataFrame'>\n",
      "RangeIndex: 307511 entries, 0 to 307510\n",
      "Data columns (total 53 columns):\n",
      " #   Column                       Non-Null Count   Dtype   \n",
      "---  ------                       --------------   -----   \n",
      " 0   SK_ID_CURR                   307511 non-null  int64   \n",
      " 1   TARGET                       307511 non-null  int64   \n",
      " 2   NAME_CONTRACT_TYPE           307511 non-null  category\n",
      " 3   CODE_GENDER                  307511 non-null  category\n",
      " 4   FLAG_OWN_REALTY              307511 non-null  category\n",
      " 5   CNT_CHILDREN                 307511 non-null  category\n",
      " 6   AMT_INCOME_TOTAL             307511 non-null  float64 \n",
      " 7   AMT_CREDIT                   307511 non-null  float64 \n",
      " 8   AMT_ANNUITY                  307499 non-null  float64 \n",
      " 9   AMT_GOODS_PRICE              307233 non-null  float64 \n",
      " 10  NAME_TYPE_SUITE              306219 non-null  category\n",
      " 11  NAME_INCOME_TYPE             307511 non-null  category\n",
      " 12  NAME_EDUCATION_TYPE          307511 non-null  category\n",
      " 13  NAME_FAMILY_STATUS           307511 non-null  category\n",
      " 14  NAME_HOUSING_TYPE            307511 non-null  category\n",
      " 15  REGION_POPULATION_RELATIVE   307511 non-null  float64 \n",
      " 16  DAYS_BIRTH                   307511 non-null  float64 \n",
      " 17  DAYS_EMPLOYED                307511 non-null  float64 \n",
      " 18  DAYS_REGISTRATION            307511 non-null  float64 \n",
      " 19  DAYS_ID_PUBLISH              307511 non-null  float64 \n",
      " 20  FLAG_MOBIL                   307511 non-null  int64   \n",
      " 21  OCCUPATION_TYPE              307511 non-null  category\n",
      " 22  CNT_FAM_MEMBERS              307509 non-null  category\n",
      " 23  REGION_RATING_CLIENT         307511 non-null  category\n",
      " 24  REGION_RATING_CLIENT_W_CITY  307511 non-null  category\n",
      " 25  WEEKDAY_APPR_PROCESS_START   307511 non-null  category\n",
      " 26  HOUR_APPR_PROCESS_START      307511 non-null  int64   \n",
      " 27  REG_REGION_NOT_LIVE_REGION   307511 non-null  int64   \n",
      " 28  REG_REGION_NOT_WORK_REGION   307511 non-null  category\n",
      " 29  LIVE_REGION_NOT_WORK_REGION  307511 non-null  category\n",
      " 30  REG_CITY_NOT_LIVE_CITY       307511 non-null  category\n",
      " 31  REG_CITY_NOT_WORK_CITY       307511 non-null  category\n",
      " 32  LIVE_CITY_NOT_WORK_CITY      307511 non-null  category\n",
      " 33  ORGANIZATION_TYPE            307511 non-null  category\n",
      " 34  OBS_30_CNT_SOCIAL_CIRCLE     306490 non-null  float64 \n",
      " 35  DEF_30_CNT_SOCIAL_CIRCLE     306490 non-null  float64 \n",
      " 36  OBS_60_CNT_SOCIAL_CIRCLE     306490 non-null  float64 \n",
      " 37  DEF_60_CNT_SOCIAL_CIRCLE     306490 non-null  float64 \n",
      " 38  DAYS_LAST_PHONE_CHANGE       307510 non-null  float64 \n",
      " 39  FLAG_DOCUMENT_3              307511 non-null  int64   \n",
      " 40  AMT_REQ_CREDIT_BUREAU_HOUR   307511 non-null  float64 \n",
      " 41  AMT_REQ_CREDIT_BUREAU_DAY    307511 non-null  float64 \n",
      " 42  AMT_REQ_CREDIT_BUREAU_WEEK   307511 non-null  float64 \n",
      " 43  AMT_REQ_CREDIT_BUREAU_MON    307511 non-null  float64 \n",
      " 44  AMT_REQ_CREDIT_BUREAU_QRT    307511 non-null  float64 \n",
      " 45  AMT_REQ_CREDIT_BUREAU_YEAR   307511 non-null  float64 \n",
      " 46  AMT_INCOME_RANGE             307279 non-null  category\n",
      " 47  AMT_CREDIT_RANGE             307511 non-null  category\n",
      " 48  AMT_GOODS_PRICE_RANGE        307233 non-null  category\n",
      " 49  AGE                          307511 non-null  float64 \n",
      " 50  AGE_GROUP                    307511 non-null  category\n",
      " 51  YEARS_EMPLOYED               307511 non-null  float64 \n",
      " 52  EMPLOYEMENT_YEARS            252135 non-null  category\n",
      "dtypes: category(25), float64(22), int64(6)\n",
      "memory usage: 73.0 MB\n"
     ]
    }
   ],
   "source": [
    "application_data.info()"
   ]
  },
  {
   "cell_type": "markdown",
   "metadata": {},
   "source": [
    "**Insight**\n",
    "* **After imputing we have 53 columns and we will move ahead with Data Analysis on these columns**"
   ]
  },
  {
   "cell_type": "code",
   "execution_count": null,
   "metadata": {},
   "outputs": [
    {
     "data": {
      "text/plain": [
       "(307511, 53)"
      ]
     },
     "execution_count": 91,
     "metadata": {},
     "output_type": "execute_result"
    }
   ],
   "source": [
    "application_data.shape"
   ]
  },
  {
   "attachments": {},
   "cell_type": "markdown",
   "metadata": {},
   "source": [
    "# Saving Transformed application_data "
   ]
  },
  {
   "cell_type": "code",
   "execution_count": null,
   "metadata": {},
   "outputs": [],
   "source": [
    "# Saving Transformed application_data \n",
    "application_data.to_csv('cleaned_application_data.csv',\n",
    "                        index=False)"
   ]
  },
  {
   "cell_type": "code",
   "execution_count": null,
   "metadata": {},
   "outputs": [],
   "source": [
    "clean_application_data= pd.read_csv(\"/Users/anurag/Desktop/Appinventiv/cleaned_data/cleaned_application_data.csv\")"
   ]
  },
  {
   "cell_type": "code",
   "execution_count": null,
   "metadata": {},
   "outputs": [
    {
     "data": {
      "text/html": [
       "<div>\n",
       "<style scoped>\n",
       "    .dataframe tbody tr th:only-of-type {\n",
       "        vertical-align: middle;\n",
       "    }\n",
       "\n",
       "    .dataframe tbody tr th {\n",
       "        vertical-align: top;\n",
       "    }\n",
       "\n",
       "    .dataframe thead th {\n",
       "        text-align: right;\n",
       "    }\n",
       "</style>\n",
       "<table border=\"1\" class=\"dataframe\">\n",
       "  <thead>\n",
       "    <tr style=\"text-align: right;\">\n",
       "      <th></th>\n",
       "      <th>SK_ID_CURR</th>\n",
       "      <th>TARGET</th>\n",
       "      <th>NAME_CONTRACT_TYPE</th>\n",
       "      <th>CODE_GENDER</th>\n",
       "      <th>FLAG_OWN_REALTY</th>\n",
       "      <th>CNT_CHILDREN</th>\n",
       "      <th>AMT_INCOME_TOTAL</th>\n",
       "      <th>AMT_CREDIT</th>\n",
       "      <th>AMT_ANNUITY</th>\n",
       "      <th>AMT_GOODS_PRICE</th>\n",
       "      <th>...</th>\n",
       "      <th>AMT_REQ_CREDIT_BUREAU_MON</th>\n",
       "      <th>AMT_REQ_CREDIT_BUREAU_QRT</th>\n",
       "      <th>AMT_REQ_CREDIT_BUREAU_YEAR</th>\n",
       "      <th>AMT_INCOME_RANGE</th>\n",
       "      <th>AMT_CREDIT_RANGE</th>\n",
       "      <th>AMT_GOODS_PRICE_RANGE</th>\n",
       "      <th>AGE</th>\n",
       "      <th>AGE_GROUP</th>\n",
       "      <th>YEARS_EMPLOYED</th>\n",
       "      <th>EMPLOYEMENT_YEARS</th>\n",
       "    </tr>\n",
       "  </thead>\n",
       "  <tbody>\n",
       "    <tr>\n",
       "      <th>0</th>\n",
       "      <td>100002</td>\n",
       "      <td>1</td>\n",
       "      <td>Cash loans</td>\n",
       "      <td>M</td>\n",
       "      <td>Y</td>\n",
       "      <td>0</td>\n",
       "      <td>2.025</td>\n",
       "      <td>4.065975</td>\n",
       "      <td>24700.5</td>\n",
       "      <td>3.510</td>\n",
       "      <td>...</td>\n",
       "      <td>0.0</td>\n",
       "      <td>0.0</td>\n",
       "      <td>1.0</td>\n",
       "      <td>2L-3L</td>\n",
       "      <td>4L-5L</td>\n",
       "      <td>3L-4L</td>\n",
       "      <td>25.920548</td>\n",
       "      <td>25-30</td>\n",
       "      <td>1.745205</td>\n",
       "      <td>0-5</td>\n",
       "    </tr>\n",
       "    <tr>\n",
       "      <th>1</th>\n",
       "      <td>100003</td>\n",
       "      <td>0</td>\n",
       "      <td>Cash loans</td>\n",
       "      <td>F</td>\n",
       "      <td>N</td>\n",
       "      <td>0</td>\n",
       "      <td>2.700</td>\n",
       "      <td>12.935025</td>\n",
       "      <td>35698.5</td>\n",
       "      <td>11.295</td>\n",
       "      <td>...</td>\n",
       "      <td>0.0</td>\n",
       "      <td>0.0</td>\n",
       "      <td>0.0</td>\n",
       "      <td>2L-3L</td>\n",
       "      <td>10L Above</td>\n",
       "      <td>10L Above</td>\n",
       "      <td>45.931507</td>\n",
       "      <td>45-50</td>\n",
       "      <td>3.254795</td>\n",
       "      <td>0-5</td>\n",
       "    </tr>\n",
       "    <tr>\n",
       "      <th>2</th>\n",
       "      <td>100004</td>\n",
       "      <td>0</td>\n",
       "      <td>Revolving loans</td>\n",
       "      <td>M</td>\n",
       "      <td>Y</td>\n",
       "      <td>0</td>\n",
       "      <td>0.675</td>\n",
       "      <td>1.350000</td>\n",
       "      <td>6750.0</td>\n",
       "      <td>1.350</td>\n",
       "      <td>...</td>\n",
       "      <td>0.0</td>\n",
       "      <td>0.0</td>\n",
       "      <td>0.0</td>\n",
       "      <td>0-1L</td>\n",
       "      <td>1L-2L</td>\n",
       "      <td>1L-2L</td>\n",
       "      <td>52.180822</td>\n",
       "      <td>50-55</td>\n",
       "      <td>0.616438</td>\n",
       "      <td>0-5</td>\n",
       "    </tr>\n",
       "    <tr>\n",
       "      <th>3</th>\n",
       "      <td>100006</td>\n",
       "      <td>0</td>\n",
       "      <td>Cash loans</td>\n",
       "      <td>F</td>\n",
       "      <td>Y</td>\n",
       "      <td>0</td>\n",
       "      <td>1.350</td>\n",
       "      <td>3.126825</td>\n",
       "      <td>29686.5</td>\n",
       "      <td>2.970</td>\n",
       "      <td>...</td>\n",
       "      <td>0.0</td>\n",
       "      <td>0.0</td>\n",
       "      <td>1.0</td>\n",
       "      <td>1L-2L</td>\n",
       "      <td>3L-4L</td>\n",
       "      <td>2L-3L</td>\n",
       "      <td>52.068493</td>\n",
       "      <td>50-55</td>\n",
       "      <td>8.326027</td>\n",
       "      <td>5-10</td>\n",
       "    </tr>\n",
       "    <tr>\n",
       "      <th>4</th>\n",
       "      <td>100007</td>\n",
       "      <td>0</td>\n",
       "      <td>Cash loans</td>\n",
       "      <td>M</td>\n",
       "      <td>Y</td>\n",
       "      <td>0</td>\n",
       "      <td>1.215</td>\n",
       "      <td>5.130000</td>\n",
       "      <td>21865.5</td>\n",
       "      <td>5.130</td>\n",
       "      <td>...</td>\n",
       "      <td>0.0</td>\n",
       "      <td>0.0</td>\n",
       "      <td>0.0</td>\n",
       "      <td>1L-2L</td>\n",
       "      <td>5L-6L</td>\n",
       "      <td>5L-6L</td>\n",
       "      <td>54.608219</td>\n",
       "      <td>50-55</td>\n",
       "      <td>8.323288</td>\n",
       "      <td>5-10</td>\n",
       "    </tr>\n",
       "  </tbody>\n",
       "</table>\n",
       "<p>5 rows × 53 columns</p>\n",
       "</div>"
      ],
      "text/plain": [
       "   SK_ID_CURR  TARGET NAME_CONTRACT_TYPE CODE_GENDER FLAG_OWN_REALTY  \\\n",
       "0      100002       1         Cash loans           M               Y   \n",
       "1      100003       0         Cash loans           F               N   \n",
       "2      100004       0    Revolving loans           M               Y   \n",
       "3      100006       0         Cash loans           F               Y   \n",
       "4      100007       0         Cash loans           M               Y   \n",
       "\n",
       "   CNT_CHILDREN  AMT_INCOME_TOTAL  AMT_CREDIT  AMT_ANNUITY  AMT_GOODS_PRICE  \\\n",
       "0             0             2.025    4.065975      24700.5            3.510   \n",
       "1             0             2.700   12.935025      35698.5           11.295   \n",
       "2             0             0.675    1.350000       6750.0            1.350   \n",
       "3             0             1.350    3.126825      29686.5            2.970   \n",
       "4             0             1.215    5.130000      21865.5            5.130   \n",
       "\n",
       "   ... AMT_REQ_CREDIT_BUREAU_MON AMT_REQ_CREDIT_BUREAU_QRT  \\\n",
       "0  ...                       0.0                       0.0   \n",
       "1  ...                       0.0                       0.0   \n",
       "2  ...                       0.0                       0.0   \n",
       "3  ...                       0.0                       0.0   \n",
       "4  ...                       0.0                       0.0   \n",
       "\n",
       "  AMT_REQ_CREDIT_BUREAU_YEAR AMT_INCOME_RANGE AMT_CREDIT_RANGE  \\\n",
       "0                        1.0            2L-3L            4L-5L   \n",
       "1                        0.0            2L-3L        10L Above   \n",
       "2                        0.0             0-1L            1L-2L   \n",
       "3                        1.0            1L-2L            3L-4L   \n",
       "4                        0.0            1L-2L            5L-6L   \n",
       "\n",
       "   AMT_GOODS_PRICE_RANGE        AGE  AGE_GROUP  YEARS_EMPLOYED  \\\n",
       "0                  3L-4L  25.920548      25-30        1.745205   \n",
       "1              10L Above  45.931507      45-50        3.254795   \n",
       "2                  1L-2L  52.180822      50-55        0.616438   \n",
       "3                  2L-3L  52.068493      50-55        8.326027   \n",
       "4                  5L-6L  54.608219      50-55        8.323288   \n",
       "\n",
       "   EMPLOYEMENT_YEARS  \n",
       "0                0-5  \n",
       "1                0-5  \n",
       "2                0-5  \n",
       "3               5-10  \n",
       "4               5-10  \n",
       "\n",
       "[5 rows x 53 columns]"
      ]
     },
     "execution_count": 88,
     "metadata": {},
     "output_type": "execute_result"
    }
   ],
   "source": [
    "clean_application_data.head()"
   ]
  },
  {
   "cell_type": "code",
   "execution_count": null,
   "metadata": {},
   "outputs": [
    {
     "data": {
      "text/plain": [
       "(307511, 53)"
      ]
     },
     "execution_count": 92,
     "metadata": {},
     "output_type": "execute_result"
    }
   ],
   "source": [
    "clean_application_data.shape"
   ]
  }
 ],
 "metadata": {
  "kernelspec": {
   "display_name": "Python 3",
   "language": "python",
   "name": "python3"
  },
  "language_info": {
   "codemirror_mode": {
    "name": "ipython",
    "version": 3
   },
   "file_extension": ".py",
   "mimetype": "text/x-python",
   "name": "python",
   "nbconvert_exporter": "python",
   "pygments_lexer": "ipython3",
   "version": "3.7.0"
  },
  "orig_nbformat": 4,
  "vscode": {
   "interpreter": {
    "hash": "832846c7bbcd3c49c609359a529dcaf1ecbd442cf8787b5ae26af494c5e549d5"
   }
  }
 },
 "nbformat": 4,
 "nbformat_minor": 2
}
